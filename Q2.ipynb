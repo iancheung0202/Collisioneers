{
  "cells": [
    {
      "cell_type": "markdown",
      "metadata": {
        "id": "R8wwUqRXRhKn"
      },
      "source": [
        "**Part 0**: Setup"
      ]
    },
    {
      "cell_type": "markdown",
      "source": [
        "Imports:"
      ],
      "metadata": {
        "id": "6Ts41QElwoia"
      }
    },
    {
      "cell_type": "code",
      "execution_count": null,
      "metadata": {
        "id": "kMBE3U8qRhKp"
      },
      "outputs": [],
      "source": [
        "import pandas as pd\n",
        "import numpy as np\n",
        "import matplotlib.pyplot as plt\n",
        "\n",
        "from sklearn.preprocessing import OneHotEncoder\n",
        "from sklearn.preprocessing import StandardScaler\n",
        "\n",
        "from sklearn.neighbors import KNeighborsClassifier\n",
        "from sklearn.linear_model import LogisticRegression\n",
        "from sklearn.svm import SVC\n",
        "\n",
        "from sklearn.pipeline import make_pipeline\n",
        "from sklearn.compose import make_column_transformer\n",
        "\n",
        "from sklearn.model_selection import GridSearchCV, train_test_split\n",
        "\n",
        "from sklearn.metrics import accuracy_score, precision_score, recall_score, f1_score, confusion_matrix\n",
        "\n",
        "import random"
      ]
    },
    {
      "cell_type": "markdown",
      "source": [
        "File setup"
      ],
      "metadata": {
        "id": "dxLgwjwtwrPa"
      }
    },
    {
      "cell_type": "code",
      "source": [
        "!gdown 1MWRLEKTJ4fRzfq-2uZYZUYDhqUocu9ew"
      ],
      "metadata": {
        "colab": {
          "base_uri": "https://localhost:8080/"
        },
        "id": "Ty-O3DbESC8s",
        "outputId": "ac99bfba-6707-4e7c-d922-0699ea466b50"
      },
      "execution_count": null,
      "outputs": [
        {
          "output_type": "stream",
          "name": "stdout",
          "text": [
            "Downloading...\n",
            "From (original): https://drive.google.com/uc?id=1MWRLEKTJ4fRzfq-2uZYZUYDhqUocu9ew\n",
            "From (redirected): https://drive.google.com/uc?id=1MWRLEKTJ4fRzfq-2uZYZUYDhqUocu9ew&confirm=t&uuid=a096e1bb-ab54-4fc7-a65e-efe76ccafc93\n",
            "To: /content/data.csv\n",
            "100% 162M/162M [00:03<00:00, 53.3MB/s]\n"
          ]
        }
      ]
    },
    {
      "cell_type": "code",
      "execution_count": null,
      "metadata": {
        "id": "RakLNyA0RhKs"
      },
      "outputs": [],
      "source": [
        "df_raw = pd.read_csv(\"/content/data.csv\")\n",
        "\n",
        "df_raw.drop(\"Unnamed: 0\", inplace=True, axis=1)"
      ]
    },
    {
      "cell_type": "markdown",
      "source": [
        "Data cleanup and adding extra features"
      ],
      "metadata": {
        "id": "Hvd5wQoswsSd"
      }
    },
    {
      "cell_type": "code",
      "execution_count": null,
      "metadata": {
        "id": "DNid-y-uRhKx"
      },
      "outputs": [],
      "source": [
        "numerical = ['COLLISION_TIME', 'COLLISION_DATE', 'MONTH', 'DAY', 'YEAR', 'HOUR', 'HOUR2', 'MINUTE', 'DAY_OF_WEEK']\n",
        "categorical = ['WEATHER_1', 'WEATHER_2', 'LOCATION_TYPE','RAMP_INTERSECTION']\n",
        "features = numerical + categorical"
      ]
    },
    {
      "cell_type": "code",
      "execution_count": null,
      "metadata": {
        "colab": {
          "base_uri": "https://localhost:8080/",
          "height": 226
        },
        "id": "nDToRFc-RhKv",
        "outputId": "1b1f9b59-82ae-4a3b-f8a3-4c1f7af96033"
      },
      "outputs": [
        {
          "output_type": "execute_result",
          "data": {
            "text/plain": [
              "  ALCOHOL_INVOLVED  COLLISION_TIME  COLLISION_DATE  DAY_OF_WEEK WEATHER_1  \\\n",
              "3                N             145        20090228            6         A   \n",
              "4                N            1020        20090209            1         C   \n",
              "5                N            1550        20090218            3         A   \n",
              "6                N            1735        20090211            3         B   \n",
              "7                N            2120        20090213            5         A   \n",
              "\n",
              "  WEATHER_2 LOCATION_TYPE RAMP_INTERSECTION  MONTH  DAY  YEAR  HOUR  HOUR2  \\\n",
              "3         -             H                 -      2   28  2009     1     25   \n",
              "4         -             H                 -      2    9  2009    10     10   \n",
              "5         -             H                 -      2   18  2009    15     15   \n",
              "6         -             H                 -      2   11  2009    17     17   \n",
              "7         -             H                 -      2   13  2009    21     21   \n",
              "\n",
              "   MINUTE  ALC  \n",
              "3      45    0  \n",
              "4      20    0  \n",
              "5      50    0  \n",
              "6      35    0  \n",
              "7      20    0  "
            ],
            "text/html": [
              "\n",
              "  <div id=\"df-cafdebef-8228-4c45-977d-d16f48abd298\" class=\"colab-df-container\">\n",
              "    <div>\n",
              "<style scoped>\n",
              "    .dataframe tbody tr th:only-of-type {\n",
              "        vertical-align: middle;\n",
              "    }\n",
              "\n",
              "    .dataframe tbody tr th {\n",
              "        vertical-align: top;\n",
              "    }\n",
              "\n",
              "    .dataframe thead th {\n",
              "        text-align: right;\n",
              "    }\n",
              "</style>\n",
              "<table border=\"1\" class=\"dataframe\">\n",
              "  <thead>\n",
              "    <tr style=\"text-align: right;\">\n",
              "      <th></th>\n",
              "      <th>ALCOHOL_INVOLVED</th>\n",
              "      <th>COLLISION_TIME</th>\n",
              "      <th>COLLISION_DATE</th>\n",
              "      <th>DAY_OF_WEEK</th>\n",
              "      <th>WEATHER_1</th>\n",
              "      <th>WEATHER_2</th>\n",
              "      <th>LOCATION_TYPE</th>\n",
              "      <th>RAMP_INTERSECTION</th>\n",
              "      <th>MONTH</th>\n",
              "      <th>DAY</th>\n",
              "      <th>YEAR</th>\n",
              "      <th>HOUR</th>\n",
              "      <th>HOUR2</th>\n",
              "      <th>MINUTE</th>\n",
              "      <th>ALC</th>\n",
              "    </tr>\n",
              "  </thead>\n",
              "  <tbody>\n",
              "    <tr>\n",
              "      <th>3</th>\n",
              "      <td>N</td>\n",
              "      <td>145</td>\n",
              "      <td>20090228</td>\n",
              "      <td>6</td>\n",
              "      <td>A</td>\n",
              "      <td>-</td>\n",
              "      <td>H</td>\n",
              "      <td>-</td>\n",
              "      <td>2</td>\n",
              "      <td>28</td>\n",
              "      <td>2009</td>\n",
              "      <td>1</td>\n",
              "      <td>25</td>\n",
              "      <td>45</td>\n",
              "      <td>0</td>\n",
              "    </tr>\n",
              "    <tr>\n",
              "      <th>4</th>\n",
              "      <td>N</td>\n",
              "      <td>1020</td>\n",
              "      <td>20090209</td>\n",
              "      <td>1</td>\n",
              "      <td>C</td>\n",
              "      <td>-</td>\n",
              "      <td>H</td>\n",
              "      <td>-</td>\n",
              "      <td>2</td>\n",
              "      <td>9</td>\n",
              "      <td>2009</td>\n",
              "      <td>10</td>\n",
              "      <td>10</td>\n",
              "      <td>20</td>\n",
              "      <td>0</td>\n",
              "    </tr>\n",
              "    <tr>\n",
              "      <th>5</th>\n",
              "      <td>N</td>\n",
              "      <td>1550</td>\n",
              "      <td>20090218</td>\n",
              "      <td>3</td>\n",
              "      <td>A</td>\n",
              "      <td>-</td>\n",
              "      <td>H</td>\n",
              "      <td>-</td>\n",
              "      <td>2</td>\n",
              "      <td>18</td>\n",
              "      <td>2009</td>\n",
              "      <td>15</td>\n",
              "      <td>15</td>\n",
              "      <td>50</td>\n",
              "      <td>0</td>\n",
              "    </tr>\n",
              "    <tr>\n",
              "      <th>6</th>\n",
              "      <td>N</td>\n",
              "      <td>1735</td>\n",
              "      <td>20090211</td>\n",
              "      <td>3</td>\n",
              "      <td>B</td>\n",
              "      <td>-</td>\n",
              "      <td>H</td>\n",
              "      <td>-</td>\n",
              "      <td>2</td>\n",
              "      <td>11</td>\n",
              "      <td>2009</td>\n",
              "      <td>17</td>\n",
              "      <td>17</td>\n",
              "      <td>35</td>\n",
              "      <td>0</td>\n",
              "    </tr>\n",
              "    <tr>\n",
              "      <th>7</th>\n",
              "      <td>N</td>\n",
              "      <td>2120</td>\n",
              "      <td>20090213</td>\n",
              "      <td>5</td>\n",
              "      <td>A</td>\n",
              "      <td>-</td>\n",
              "      <td>H</td>\n",
              "      <td>-</td>\n",
              "      <td>2</td>\n",
              "      <td>13</td>\n",
              "      <td>2009</td>\n",
              "      <td>21</td>\n",
              "      <td>21</td>\n",
              "      <td>20</td>\n",
              "      <td>0</td>\n",
              "    </tr>\n",
              "  </tbody>\n",
              "</table>\n",
              "</div>\n",
              "    <div class=\"colab-df-buttons\">\n",
              "\n",
              "  <div class=\"colab-df-container\">\n",
              "    <button class=\"colab-df-convert\" onclick=\"convertToInteractive('df-cafdebef-8228-4c45-977d-d16f48abd298')\"\n",
              "            title=\"Convert this dataframe to an interactive table.\"\n",
              "            style=\"display:none;\">\n",
              "\n",
              "  <svg xmlns=\"http://www.w3.org/2000/svg\" height=\"24px\" viewBox=\"0 -960 960 960\">\n",
              "    <path d=\"M120-120v-720h720v720H120Zm60-500h600v-160H180v160Zm220 220h160v-160H400v160Zm0 220h160v-160H400v160ZM180-400h160v-160H180v160Zm440 0h160v-160H620v160ZM180-180h160v-160H180v160Zm440 0h160v-160H620v160Z\"/>\n",
              "  </svg>\n",
              "    </button>\n",
              "\n",
              "  <style>\n",
              "    .colab-df-container {\n",
              "      display:flex;\n",
              "      gap: 12px;\n",
              "    }\n",
              "\n",
              "    .colab-df-convert {\n",
              "      background-color: #E8F0FE;\n",
              "      border: none;\n",
              "      border-radius: 50%;\n",
              "      cursor: pointer;\n",
              "      display: none;\n",
              "      fill: #1967D2;\n",
              "      height: 32px;\n",
              "      padding: 0 0 0 0;\n",
              "      width: 32px;\n",
              "    }\n",
              "\n",
              "    .colab-df-convert:hover {\n",
              "      background-color: #E2EBFA;\n",
              "      box-shadow: 0px 1px 2px rgba(60, 64, 67, 0.3), 0px 1px 3px 1px rgba(60, 64, 67, 0.15);\n",
              "      fill: #174EA6;\n",
              "    }\n",
              "\n",
              "    .colab-df-buttons div {\n",
              "      margin-bottom: 4px;\n",
              "    }\n",
              "\n",
              "    [theme=dark] .colab-df-convert {\n",
              "      background-color: #3B4455;\n",
              "      fill: #D2E3FC;\n",
              "    }\n",
              "\n",
              "    [theme=dark] .colab-df-convert:hover {\n",
              "      background-color: #434B5C;\n",
              "      box-shadow: 0px 1px 3px 1px rgba(0, 0, 0, 0.15);\n",
              "      filter: drop-shadow(0px 1px 2px rgba(0, 0, 0, 0.3));\n",
              "      fill: #FFFFFF;\n",
              "    }\n",
              "  </style>\n",
              "\n",
              "    <script>\n",
              "      const buttonEl =\n",
              "        document.querySelector('#df-cafdebef-8228-4c45-977d-d16f48abd298 button.colab-df-convert');\n",
              "      buttonEl.style.display =\n",
              "        google.colab.kernel.accessAllowed ? 'block' : 'none';\n",
              "\n",
              "      async function convertToInteractive(key) {\n",
              "        const element = document.querySelector('#df-cafdebef-8228-4c45-977d-d16f48abd298');\n",
              "        const dataTable =\n",
              "          await google.colab.kernel.invokeFunction('convertToInteractive',\n",
              "                                                    [key], {});\n",
              "        if (!dataTable) return;\n",
              "\n",
              "        const docLinkHtml = 'Like what you see? Visit the ' +\n",
              "          '<a target=\"_blank\" href=https://colab.research.google.com/notebooks/data_table.ipynb>data table notebook</a>'\n",
              "          + ' to learn more about interactive tables.';\n",
              "        element.innerHTML = '';\n",
              "        dataTable['output_type'] = 'display_data';\n",
              "        await google.colab.output.renderOutput(dataTable, element);\n",
              "        const docLink = document.createElement('div');\n",
              "        docLink.innerHTML = docLinkHtml;\n",
              "        element.appendChild(docLink);\n",
              "      }\n",
              "    </script>\n",
              "  </div>\n",
              "\n",
              "\n",
              "<div id=\"df-7aa0a14f-affa-471f-837e-0148a60adebe\">\n",
              "  <button class=\"colab-df-quickchart\" onclick=\"quickchart('df-7aa0a14f-affa-471f-837e-0148a60adebe')\"\n",
              "            title=\"Suggest charts\"\n",
              "            style=\"display:none;\">\n",
              "\n",
              "<svg xmlns=\"http://www.w3.org/2000/svg\" height=\"24px\"viewBox=\"0 0 24 24\"\n",
              "     width=\"24px\">\n",
              "    <g>\n",
              "        <path d=\"M19 3H5c-1.1 0-2 .9-2 2v14c0 1.1.9 2 2 2h14c1.1 0 2-.9 2-2V5c0-1.1-.9-2-2-2zM9 17H7v-7h2v7zm4 0h-2V7h2v10zm4 0h-2v-4h2v4z\"/>\n",
              "    </g>\n",
              "</svg>\n",
              "  </button>\n",
              "\n",
              "<style>\n",
              "  .colab-df-quickchart {\n",
              "      --bg-color: #E8F0FE;\n",
              "      --fill-color: #1967D2;\n",
              "      --hover-bg-color: #E2EBFA;\n",
              "      --hover-fill-color: #174EA6;\n",
              "      --disabled-fill-color: #AAA;\n",
              "      --disabled-bg-color: #DDD;\n",
              "  }\n",
              "\n",
              "  [theme=dark] .colab-df-quickchart {\n",
              "      --bg-color: #3B4455;\n",
              "      --fill-color: #D2E3FC;\n",
              "      --hover-bg-color: #434B5C;\n",
              "      --hover-fill-color: #FFFFFF;\n",
              "      --disabled-bg-color: #3B4455;\n",
              "      --disabled-fill-color: #666;\n",
              "  }\n",
              "\n",
              "  .colab-df-quickchart {\n",
              "    background-color: var(--bg-color);\n",
              "    border: none;\n",
              "    border-radius: 50%;\n",
              "    cursor: pointer;\n",
              "    display: none;\n",
              "    fill: var(--fill-color);\n",
              "    height: 32px;\n",
              "    padding: 0;\n",
              "    width: 32px;\n",
              "  }\n",
              "\n",
              "  .colab-df-quickchart:hover {\n",
              "    background-color: var(--hover-bg-color);\n",
              "    box-shadow: 0 1px 2px rgba(60, 64, 67, 0.3), 0 1px 3px 1px rgba(60, 64, 67, 0.15);\n",
              "    fill: var(--button-hover-fill-color);\n",
              "  }\n",
              "\n",
              "  .colab-df-quickchart-complete:disabled,\n",
              "  .colab-df-quickchart-complete:disabled:hover {\n",
              "    background-color: var(--disabled-bg-color);\n",
              "    fill: var(--disabled-fill-color);\n",
              "    box-shadow: none;\n",
              "  }\n",
              "\n",
              "  .colab-df-spinner {\n",
              "    border: 2px solid var(--fill-color);\n",
              "    border-color: transparent;\n",
              "    border-bottom-color: var(--fill-color);\n",
              "    animation:\n",
              "      spin 1s steps(1) infinite;\n",
              "  }\n",
              "\n",
              "  @keyframes spin {\n",
              "    0% {\n",
              "      border-color: transparent;\n",
              "      border-bottom-color: var(--fill-color);\n",
              "      border-left-color: var(--fill-color);\n",
              "    }\n",
              "    20% {\n",
              "      border-color: transparent;\n",
              "      border-left-color: var(--fill-color);\n",
              "      border-top-color: var(--fill-color);\n",
              "    }\n",
              "    30% {\n",
              "      border-color: transparent;\n",
              "      border-left-color: var(--fill-color);\n",
              "      border-top-color: var(--fill-color);\n",
              "      border-right-color: var(--fill-color);\n",
              "    }\n",
              "    40% {\n",
              "      border-color: transparent;\n",
              "      border-right-color: var(--fill-color);\n",
              "      border-top-color: var(--fill-color);\n",
              "    }\n",
              "    60% {\n",
              "      border-color: transparent;\n",
              "      border-right-color: var(--fill-color);\n",
              "    }\n",
              "    80% {\n",
              "      border-color: transparent;\n",
              "      border-right-color: var(--fill-color);\n",
              "      border-bottom-color: var(--fill-color);\n",
              "    }\n",
              "    90% {\n",
              "      border-color: transparent;\n",
              "      border-bottom-color: var(--fill-color);\n",
              "    }\n",
              "  }\n",
              "</style>\n",
              "\n",
              "  <script>\n",
              "    async function quickchart(key) {\n",
              "      const quickchartButtonEl =\n",
              "        document.querySelector('#' + key + ' button');\n",
              "      quickchartButtonEl.disabled = true;  // To prevent multiple clicks.\n",
              "      quickchartButtonEl.classList.add('colab-df-spinner');\n",
              "      try {\n",
              "        const charts = await google.colab.kernel.invokeFunction(\n",
              "            'suggestCharts', [key], {});\n",
              "      } catch (error) {\n",
              "        console.error('Error during call to suggestCharts:', error);\n",
              "      }\n",
              "      quickchartButtonEl.classList.remove('colab-df-spinner');\n",
              "      quickchartButtonEl.classList.add('colab-df-quickchart-complete');\n",
              "    }\n",
              "    (() => {\n",
              "      let quickchartButtonEl =\n",
              "        document.querySelector('#df-7aa0a14f-affa-471f-837e-0148a60adebe button');\n",
              "      quickchartButtonEl.style.display =\n",
              "        google.colab.kernel.accessAllowed ? 'block' : 'none';\n",
              "    })();\n",
              "  </script>\n",
              "</div>\n",
              "\n",
              "    </div>\n",
              "  </div>\n"
            ],
            "application/vnd.google.colaboratory.intrinsic+json": {
              "type": "dataframe",
              "variable_name": "df_raw"
            }
          },
          "metadata": {},
          "execution_count": 5
        }
      ],
      "source": [
        "df_raw.fillna({\"ALCOHOL_INVOLVED\": \"N\"}, inplace=True)\n",
        "df_raw.drop(\"PEDESTRIAN_ACCIDENT\", inplace=True, axis=1)\n",
        "df_raw.dropna(inplace=True)\n",
        "\n",
        "# remapping of time to consider time between 0 (midnight) and 6 as hours 24-30\n",
        "def timemap(h):\n",
        "    if h >= 0 and h < 6:\n",
        "        return 24 + h\n",
        "    return h\n",
        "\n",
        "# numerical\n",
        "tmp = df_raw[\"COLLISION_DATE\"] % 10000\n",
        "df_raw[\"MONTH\"] = tmp // 100\n",
        "df_raw[\"DAY\"] = tmp % 100\n",
        "df_raw[\"YEAR\"] = df_raw[\"COLLISION_DATE\"] // 10000\n",
        "df_raw[\"HOUR\"] = df_raw[\"COLLISION_TIME\"] // 100\n",
        "df_raw[\"HOUR2\"] = df_raw[\"HOUR\"].map(timemap)\n",
        "\n",
        "df_raw[\"MINUTE\"] = df_raw[\"COLLISION_TIME\"] % 100\n",
        "\n",
        "# numerical version of alcohol involvement\n",
        "df_raw[\"ALC\"] = df_raw[\"ALCOHOL_INVOLVED\"].map(lambda x: 1 if x == \"Y\" else 0)\n",
        "\n",
        "df_raw.head()"
      ]
    },
    {
      "cell_type": "code",
      "source": [
        "random.seed(100) # setting random seed"
      ],
      "metadata": {
        "id": "bzKA6AelxFfc"
      },
      "execution_count": null,
      "outputs": []
    },
    {
      "cell_type": "markdown",
      "source": [
        "Sampling from database (for performance and to balance classes)"
      ],
      "metadata": {
        "id": "xpAwu8Vgw3wh"
      }
    },
    {
      "cell_type": "code",
      "execution_count": null,
      "metadata": {
        "id": "CFMjEGL8RhKw"
      },
      "outputs": [],
      "source": [
        "n = 1000\n",
        "\n",
        "yalc = df_raw[df_raw[\"ALC\"] == 1]\n",
        "nalc = df_raw[df_raw[\"ALC\"] == 0]\n",
        "\n",
        "sample_yalc = yalc.iloc[random.sample(range(yalc.shape[0]), n)]\n",
        "sample_nalc = nalc.iloc[random.sample(range(nalc.shape[0]), 2 * n)]"
      ]
    },
    {
      "cell_type": "code",
      "execution_count": null,
      "metadata": {
        "colab": {
          "base_uri": "https://localhost:8080/",
          "height": 444
        },
        "id": "SO3AhXXVRhKy",
        "outputId": "f3ccd4b2-7268-4dfe-acd0-a759a39cc0d8"
      },
      "outputs": [
        {
          "output_type": "execute_result",
          "data": {
            "text/plain": [
              "        ALCOHOL_INVOLVED  COLLISION_TIME  COLLISION_DATE  DAY_OF_WEEK  \\\n",
              "630731                 Y             315        20100724            6   \n",
              "1998736                Y             520        20140103            5   \n",
              "1978909                Y             158        20131213            5   \n",
              "759441                 Y            2140        20101112            5   \n",
              "1704344                Y            1510        20130318            1   \n",
              "...                  ...             ...             ...          ...   \n",
              "1806085                N             830        20130520            1   \n",
              "643487                 N            1230        20100605            6   \n",
              "605138                 N            1935        20100614            1   \n",
              "2389909                N            2215        20150126            1   \n",
              "751526                 N             745        20101021            4   \n",
              "\n",
              "        WEATHER_1 WEATHER_2 LOCATION_TYPE RAMP_INTERSECTION  MONTH  DAY  YEAR  \\\n",
              "630731          A         -             H                 -      7   24  2010   \n",
              "1998736         A         -             H                 -      1    3  2014   \n",
              "1978909         A         -             H                 -     12   13  2013   \n",
              "759441          A         -             H                 -     11   12  2010   \n",
              "1704344         A         -             H                 -      3   18  2013   \n",
              "...           ...       ...           ...               ...    ...  ...   ...   \n",
              "1806085         A         -             H                 -      5   20  2013   \n",
              "643487          A         -             H                 -      6    5  2010   \n",
              "605138          A         -             H                 -      6   14  2010   \n",
              "2389909         A         -             H                 -      1   26  2015   \n",
              "751526          B         -             R                 2     10   21  2010   \n",
              "\n",
              "         HOUR  HOUR2  MINUTE  ALC  \n",
              "630731      3     27      15    1  \n",
              "1998736     5     29      20    1  \n",
              "1978909     1     25      58    1  \n",
              "759441     21     21      40    1  \n",
              "1704344    15     15      10    1  \n",
              "...       ...    ...     ...  ...  \n",
              "1806085     8      8      30    0  \n",
              "643487     12     12      30    0  \n",
              "605138     19     19      35    0  \n",
              "2389909    22     22      15    0  \n",
              "751526      7      7      45    0  \n",
              "\n",
              "[3000 rows x 15 columns]"
            ],
            "text/html": [
              "\n",
              "  <div id=\"df-ad04ad59-cbb3-425a-a5d5-65a18e41940d\" class=\"colab-df-container\">\n",
              "    <div>\n",
              "<style scoped>\n",
              "    .dataframe tbody tr th:only-of-type {\n",
              "        vertical-align: middle;\n",
              "    }\n",
              "\n",
              "    .dataframe tbody tr th {\n",
              "        vertical-align: top;\n",
              "    }\n",
              "\n",
              "    .dataframe thead th {\n",
              "        text-align: right;\n",
              "    }\n",
              "</style>\n",
              "<table border=\"1\" class=\"dataframe\">\n",
              "  <thead>\n",
              "    <tr style=\"text-align: right;\">\n",
              "      <th></th>\n",
              "      <th>ALCOHOL_INVOLVED</th>\n",
              "      <th>COLLISION_TIME</th>\n",
              "      <th>COLLISION_DATE</th>\n",
              "      <th>DAY_OF_WEEK</th>\n",
              "      <th>WEATHER_1</th>\n",
              "      <th>WEATHER_2</th>\n",
              "      <th>LOCATION_TYPE</th>\n",
              "      <th>RAMP_INTERSECTION</th>\n",
              "      <th>MONTH</th>\n",
              "      <th>DAY</th>\n",
              "      <th>YEAR</th>\n",
              "      <th>HOUR</th>\n",
              "      <th>HOUR2</th>\n",
              "      <th>MINUTE</th>\n",
              "      <th>ALC</th>\n",
              "    </tr>\n",
              "  </thead>\n",
              "  <tbody>\n",
              "    <tr>\n",
              "      <th>630731</th>\n",
              "      <td>Y</td>\n",
              "      <td>315</td>\n",
              "      <td>20100724</td>\n",
              "      <td>6</td>\n",
              "      <td>A</td>\n",
              "      <td>-</td>\n",
              "      <td>H</td>\n",
              "      <td>-</td>\n",
              "      <td>7</td>\n",
              "      <td>24</td>\n",
              "      <td>2010</td>\n",
              "      <td>3</td>\n",
              "      <td>27</td>\n",
              "      <td>15</td>\n",
              "      <td>1</td>\n",
              "    </tr>\n",
              "    <tr>\n",
              "      <th>1998736</th>\n",
              "      <td>Y</td>\n",
              "      <td>520</td>\n",
              "      <td>20140103</td>\n",
              "      <td>5</td>\n",
              "      <td>A</td>\n",
              "      <td>-</td>\n",
              "      <td>H</td>\n",
              "      <td>-</td>\n",
              "      <td>1</td>\n",
              "      <td>3</td>\n",
              "      <td>2014</td>\n",
              "      <td>5</td>\n",
              "      <td>29</td>\n",
              "      <td>20</td>\n",
              "      <td>1</td>\n",
              "    </tr>\n",
              "    <tr>\n",
              "      <th>1978909</th>\n",
              "      <td>Y</td>\n",
              "      <td>158</td>\n",
              "      <td>20131213</td>\n",
              "      <td>5</td>\n",
              "      <td>A</td>\n",
              "      <td>-</td>\n",
              "      <td>H</td>\n",
              "      <td>-</td>\n",
              "      <td>12</td>\n",
              "      <td>13</td>\n",
              "      <td>2013</td>\n",
              "      <td>1</td>\n",
              "      <td>25</td>\n",
              "      <td>58</td>\n",
              "      <td>1</td>\n",
              "    </tr>\n",
              "    <tr>\n",
              "      <th>759441</th>\n",
              "      <td>Y</td>\n",
              "      <td>2140</td>\n",
              "      <td>20101112</td>\n",
              "      <td>5</td>\n",
              "      <td>A</td>\n",
              "      <td>-</td>\n",
              "      <td>H</td>\n",
              "      <td>-</td>\n",
              "      <td>11</td>\n",
              "      <td>12</td>\n",
              "      <td>2010</td>\n",
              "      <td>21</td>\n",
              "      <td>21</td>\n",
              "      <td>40</td>\n",
              "      <td>1</td>\n",
              "    </tr>\n",
              "    <tr>\n",
              "      <th>1704344</th>\n",
              "      <td>Y</td>\n",
              "      <td>1510</td>\n",
              "      <td>20130318</td>\n",
              "      <td>1</td>\n",
              "      <td>A</td>\n",
              "      <td>-</td>\n",
              "      <td>H</td>\n",
              "      <td>-</td>\n",
              "      <td>3</td>\n",
              "      <td>18</td>\n",
              "      <td>2013</td>\n",
              "      <td>15</td>\n",
              "      <td>15</td>\n",
              "      <td>10</td>\n",
              "      <td>1</td>\n",
              "    </tr>\n",
              "    <tr>\n",
              "      <th>...</th>\n",
              "      <td>...</td>\n",
              "      <td>...</td>\n",
              "      <td>...</td>\n",
              "      <td>...</td>\n",
              "      <td>...</td>\n",
              "      <td>...</td>\n",
              "      <td>...</td>\n",
              "      <td>...</td>\n",
              "      <td>...</td>\n",
              "      <td>...</td>\n",
              "      <td>...</td>\n",
              "      <td>...</td>\n",
              "      <td>...</td>\n",
              "      <td>...</td>\n",
              "      <td>...</td>\n",
              "    </tr>\n",
              "    <tr>\n",
              "      <th>1806085</th>\n",
              "      <td>N</td>\n",
              "      <td>830</td>\n",
              "      <td>20130520</td>\n",
              "      <td>1</td>\n",
              "      <td>A</td>\n",
              "      <td>-</td>\n",
              "      <td>H</td>\n",
              "      <td>-</td>\n",
              "      <td>5</td>\n",
              "      <td>20</td>\n",
              "      <td>2013</td>\n",
              "      <td>8</td>\n",
              "      <td>8</td>\n",
              "      <td>30</td>\n",
              "      <td>0</td>\n",
              "    </tr>\n",
              "    <tr>\n",
              "      <th>643487</th>\n",
              "      <td>N</td>\n",
              "      <td>1230</td>\n",
              "      <td>20100605</td>\n",
              "      <td>6</td>\n",
              "      <td>A</td>\n",
              "      <td>-</td>\n",
              "      <td>H</td>\n",
              "      <td>-</td>\n",
              "      <td>6</td>\n",
              "      <td>5</td>\n",
              "      <td>2010</td>\n",
              "      <td>12</td>\n",
              "      <td>12</td>\n",
              "      <td>30</td>\n",
              "      <td>0</td>\n",
              "    </tr>\n",
              "    <tr>\n",
              "      <th>605138</th>\n",
              "      <td>N</td>\n",
              "      <td>1935</td>\n",
              "      <td>20100614</td>\n",
              "      <td>1</td>\n",
              "      <td>A</td>\n",
              "      <td>-</td>\n",
              "      <td>H</td>\n",
              "      <td>-</td>\n",
              "      <td>6</td>\n",
              "      <td>14</td>\n",
              "      <td>2010</td>\n",
              "      <td>19</td>\n",
              "      <td>19</td>\n",
              "      <td>35</td>\n",
              "      <td>0</td>\n",
              "    </tr>\n",
              "    <tr>\n",
              "      <th>2389909</th>\n",
              "      <td>N</td>\n",
              "      <td>2215</td>\n",
              "      <td>20150126</td>\n",
              "      <td>1</td>\n",
              "      <td>A</td>\n",
              "      <td>-</td>\n",
              "      <td>H</td>\n",
              "      <td>-</td>\n",
              "      <td>1</td>\n",
              "      <td>26</td>\n",
              "      <td>2015</td>\n",
              "      <td>22</td>\n",
              "      <td>22</td>\n",
              "      <td>15</td>\n",
              "      <td>0</td>\n",
              "    </tr>\n",
              "    <tr>\n",
              "      <th>751526</th>\n",
              "      <td>N</td>\n",
              "      <td>745</td>\n",
              "      <td>20101021</td>\n",
              "      <td>4</td>\n",
              "      <td>B</td>\n",
              "      <td>-</td>\n",
              "      <td>R</td>\n",
              "      <td>2</td>\n",
              "      <td>10</td>\n",
              "      <td>21</td>\n",
              "      <td>2010</td>\n",
              "      <td>7</td>\n",
              "      <td>7</td>\n",
              "      <td>45</td>\n",
              "      <td>0</td>\n",
              "    </tr>\n",
              "  </tbody>\n",
              "</table>\n",
              "<p>3000 rows × 15 columns</p>\n",
              "</div>\n",
              "    <div class=\"colab-df-buttons\">\n",
              "\n",
              "  <div class=\"colab-df-container\">\n",
              "    <button class=\"colab-df-convert\" onclick=\"convertToInteractive('df-ad04ad59-cbb3-425a-a5d5-65a18e41940d')\"\n",
              "            title=\"Convert this dataframe to an interactive table.\"\n",
              "            style=\"display:none;\">\n",
              "\n",
              "  <svg xmlns=\"http://www.w3.org/2000/svg\" height=\"24px\" viewBox=\"0 -960 960 960\">\n",
              "    <path d=\"M120-120v-720h720v720H120Zm60-500h600v-160H180v160Zm220 220h160v-160H400v160Zm0 220h160v-160H400v160ZM180-400h160v-160H180v160Zm440 0h160v-160H620v160ZM180-180h160v-160H180v160Zm440 0h160v-160H620v160Z\"/>\n",
              "  </svg>\n",
              "    </button>\n",
              "\n",
              "  <style>\n",
              "    .colab-df-container {\n",
              "      display:flex;\n",
              "      gap: 12px;\n",
              "    }\n",
              "\n",
              "    .colab-df-convert {\n",
              "      background-color: #E8F0FE;\n",
              "      border: none;\n",
              "      border-radius: 50%;\n",
              "      cursor: pointer;\n",
              "      display: none;\n",
              "      fill: #1967D2;\n",
              "      height: 32px;\n",
              "      padding: 0 0 0 0;\n",
              "      width: 32px;\n",
              "    }\n",
              "\n",
              "    .colab-df-convert:hover {\n",
              "      background-color: #E2EBFA;\n",
              "      box-shadow: 0px 1px 2px rgba(60, 64, 67, 0.3), 0px 1px 3px 1px rgba(60, 64, 67, 0.15);\n",
              "      fill: #174EA6;\n",
              "    }\n",
              "\n",
              "    .colab-df-buttons div {\n",
              "      margin-bottom: 4px;\n",
              "    }\n",
              "\n",
              "    [theme=dark] .colab-df-convert {\n",
              "      background-color: #3B4455;\n",
              "      fill: #D2E3FC;\n",
              "    }\n",
              "\n",
              "    [theme=dark] .colab-df-convert:hover {\n",
              "      background-color: #434B5C;\n",
              "      box-shadow: 0px 1px 3px 1px rgba(0, 0, 0, 0.15);\n",
              "      filter: drop-shadow(0px 1px 2px rgba(0, 0, 0, 0.3));\n",
              "      fill: #FFFFFF;\n",
              "    }\n",
              "  </style>\n",
              "\n",
              "    <script>\n",
              "      const buttonEl =\n",
              "        document.querySelector('#df-ad04ad59-cbb3-425a-a5d5-65a18e41940d button.colab-df-convert');\n",
              "      buttonEl.style.display =\n",
              "        google.colab.kernel.accessAllowed ? 'block' : 'none';\n",
              "\n",
              "      async function convertToInteractive(key) {\n",
              "        const element = document.querySelector('#df-ad04ad59-cbb3-425a-a5d5-65a18e41940d');\n",
              "        const dataTable =\n",
              "          await google.colab.kernel.invokeFunction('convertToInteractive',\n",
              "                                                    [key], {});\n",
              "        if (!dataTable) return;\n",
              "\n",
              "        const docLinkHtml = 'Like what you see? Visit the ' +\n",
              "          '<a target=\"_blank\" href=https://colab.research.google.com/notebooks/data_table.ipynb>data table notebook</a>'\n",
              "          + ' to learn more about interactive tables.';\n",
              "        element.innerHTML = '';\n",
              "        dataTable['output_type'] = 'display_data';\n",
              "        await google.colab.output.renderOutput(dataTable, element);\n",
              "        const docLink = document.createElement('div');\n",
              "        docLink.innerHTML = docLinkHtml;\n",
              "        element.appendChild(docLink);\n",
              "      }\n",
              "    </script>\n",
              "  </div>\n",
              "\n",
              "\n",
              "<div id=\"df-20778c77-4c30-4e11-a822-e49b6c93c6b1\">\n",
              "  <button class=\"colab-df-quickchart\" onclick=\"quickchart('df-20778c77-4c30-4e11-a822-e49b6c93c6b1')\"\n",
              "            title=\"Suggest charts\"\n",
              "            style=\"display:none;\">\n",
              "\n",
              "<svg xmlns=\"http://www.w3.org/2000/svg\" height=\"24px\"viewBox=\"0 0 24 24\"\n",
              "     width=\"24px\">\n",
              "    <g>\n",
              "        <path d=\"M19 3H5c-1.1 0-2 .9-2 2v14c0 1.1.9 2 2 2h14c1.1 0 2-.9 2-2V5c0-1.1-.9-2-2-2zM9 17H7v-7h2v7zm4 0h-2V7h2v10zm4 0h-2v-4h2v4z\"/>\n",
              "    </g>\n",
              "</svg>\n",
              "  </button>\n",
              "\n",
              "<style>\n",
              "  .colab-df-quickchart {\n",
              "      --bg-color: #E8F0FE;\n",
              "      --fill-color: #1967D2;\n",
              "      --hover-bg-color: #E2EBFA;\n",
              "      --hover-fill-color: #174EA6;\n",
              "      --disabled-fill-color: #AAA;\n",
              "      --disabled-bg-color: #DDD;\n",
              "  }\n",
              "\n",
              "  [theme=dark] .colab-df-quickchart {\n",
              "      --bg-color: #3B4455;\n",
              "      --fill-color: #D2E3FC;\n",
              "      --hover-bg-color: #434B5C;\n",
              "      --hover-fill-color: #FFFFFF;\n",
              "      --disabled-bg-color: #3B4455;\n",
              "      --disabled-fill-color: #666;\n",
              "  }\n",
              "\n",
              "  .colab-df-quickchart {\n",
              "    background-color: var(--bg-color);\n",
              "    border: none;\n",
              "    border-radius: 50%;\n",
              "    cursor: pointer;\n",
              "    display: none;\n",
              "    fill: var(--fill-color);\n",
              "    height: 32px;\n",
              "    padding: 0;\n",
              "    width: 32px;\n",
              "  }\n",
              "\n",
              "  .colab-df-quickchart:hover {\n",
              "    background-color: var(--hover-bg-color);\n",
              "    box-shadow: 0 1px 2px rgba(60, 64, 67, 0.3), 0 1px 3px 1px rgba(60, 64, 67, 0.15);\n",
              "    fill: var(--button-hover-fill-color);\n",
              "  }\n",
              "\n",
              "  .colab-df-quickchart-complete:disabled,\n",
              "  .colab-df-quickchart-complete:disabled:hover {\n",
              "    background-color: var(--disabled-bg-color);\n",
              "    fill: var(--disabled-fill-color);\n",
              "    box-shadow: none;\n",
              "  }\n",
              "\n",
              "  .colab-df-spinner {\n",
              "    border: 2px solid var(--fill-color);\n",
              "    border-color: transparent;\n",
              "    border-bottom-color: var(--fill-color);\n",
              "    animation:\n",
              "      spin 1s steps(1) infinite;\n",
              "  }\n",
              "\n",
              "  @keyframes spin {\n",
              "    0% {\n",
              "      border-color: transparent;\n",
              "      border-bottom-color: var(--fill-color);\n",
              "      border-left-color: var(--fill-color);\n",
              "    }\n",
              "    20% {\n",
              "      border-color: transparent;\n",
              "      border-left-color: var(--fill-color);\n",
              "      border-top-color: var(--fill-color);\n",
              "    }\n",
              "    30% {\n",
              "      border-color: transparent;\n",
              "      border-left-color: var(--fill-color);\n",
              "      border-top-color: var(--fill-color);\n",
              "      border-right-color: var(--fill-color);\n",
              "    }\n",
              "    40% {\n",
              "      border-color: transparent;\n",
              "      border-right-color: var(--fill-color);\n",
              "      border-top-color: var(--fill-color);\n",
              "    }\n",
              "    60% {\n",
              "      border-color: transparent;\n",
              "      border-right-color: var(--fill-color);\n",
              "    }\n",
              "    80% {\n",
              "      border-color: transparent;\n",
              "      border-right-color: var(--fill-color);\n",
              "      border-bottom-color: var(--fill-color);\n",
              "    }\n",
              "    90% {\n",
              "      border-color: transparent;\n",
              "      border-bottom-color: var(--fill-color);\n",
              "    }\n",
              "  }\n",
              "</style>\n",
              "\n",
              "  <script>\n",
              "    async function quickchart(key) {\n",
              "      const quickchartButtonEl =\n",
              "        document.querySelector('#' + key + ' button');\n",
              "      quickchartButtonEl.disabled = true;  // To prevent multiple clicks.\n",
              "      quickchartButtonEl.classList.add('colab-df-spinner');\n",
              "      try {\n",
              "        const charts = await google.colab.kernel.invokeFunction(\n",
              "            'suggestCharts', [key], {});\n",
              "      } catch (error) {\n",
              "        console.error('Error during call to suggestCharts:', error);\n",
              "      }\n",
              "      quickchartButtonEl.classList.remove('colab-df-spinner');\n",
              "      quickchartButtonEl.classList.add('colab-df-quickchart-complete');\n",
              "    }\n",
              "    (() => {\n",
              "      let quickchartButtonEl =\n",
              "        document.querySelector('#df-20778c77-4c30-4e11-a822-e49b6c93c6b1 button');\n",
              "      quickchartButtonEl.style.display =\n",
              "        google.colab.kernel.accessAllowed ? 'block' : 'none';\n",
              "    })();\n",
              "  </script>\n",
              "</div>\n",
              "\n",
              "  <div id=\"id_31ae648d-88c0-48a4-b803-2ac32c66680b\">\n",
              "    <style>\n",
              "      .colab-df-generate {\n",
              "        background-color: #E8F0FE;\n",
              "        border: none;\n",
              "        border-radius: 50%;\n",
              "        cursor: pointer;\n",
              "        display: none;\n",
              "        fill: #1967D2;\n",
              "        height: 32px;\n",
              "        padding: 0 0 0 0;\n",
              "        width: 32px;\n",
              "      }\n",
              "\n",
              "      .colab-df-generate:hover {\n",
              "        background-color: #E2EBFA;\n",
              "        box-shadow: 0px 1px 2px rgba(60, 64, 67, 0.3), 0px 1px 3px 1px rgba(60, 64, 67, 0.15);\n",
              "        fill: #174EA6;\n",
              "      }\n",
              "\n",
              "      [theme=dark] .colab-df-generate {\n",
              "        background-color: #3B4455;\n",
              "        fill: #D2E3FC;\n",
              "      }\n",
              "\n",
              "      [theme=dark] .colab-df-generate:hover {\n",
              "        background-color: #434B5C;\n",
              "        box-shadow: 0px 1px 3px 1px rgba(0, 0, 0, 0.15);\n",
              "        filter: drop-shadow(0px 1px 2px rgba(0, 0, 0, 0.3));\n",
              "        fill: #FFFFFF;\n",
              "      }\n",
              "    </style>\n",
              "    <button class=\"colab-df-generate\" onclick=\"generateWithVariable('df')\"\n",
              "            title=\"Generate code using this dataframe.\"\n",
              "            style=\"display:none;\">\n",
              "\n",
              "  <svg xmlns=\"http://www.w3.org/2000/svg\" height=\"24px\"viewBox=\"0 0 24 24\"\n",
              "       width=\"24px\">\n",
              "    <path d=\"M7,19H8.4L18.45,9,17,7.55,7,17.6ZM5,21V16.75L18.45,3.32a2,2,0,0,1,2.83,0l1.4,1.43a1.91,1.91,0,0,1,.58,1.4,1.91,1.91,0,0,1-.58,1.4L9.25,21ZM18.45,9,17,7.55Zm-12,3A5.31,5.31,0,0,0,4.9,8.1,5.31,5.31,0,0,0,1,6.5,5.31,5.31,0,0,0,4.9,4.9,5.31,5.31,0,0,0,6.5,1,5.31,5.31,0,0,0,8.1,4.9,5.31,5.31,0,0,0,12,6.5,5.46,5.46,0,0,0,6.5,12Z\"/>\n",
              "  </svg>\n",
              "    </button>\n",
              "    <script>\n",
              "      (() => {\n",
              "      const buttonEl =\n",
              "        document.querySelector('#id_31ae648d-88c0-48a4-b803-2ac32c66680b button.colab-df-generate');\n",
              "      buttonEl.style.display =\n",
              "        google.colab.kernel.accessAllowed ? 'block' : 'none';\n",
              "\n",
              "      buttonEl.onclick = () => {\n",
              "        google.colab.notebook.generateWithVariable('df');\n",
              "      }\n",
              "      })();\n",
              "    </script>\n",
              "  </div>\n",
              "\n",
              "    </div>\n",
              "  </div>\n"
            ],
            "application/vnd.google.colaboratory.intrinsic+json": {
              "type": "dataframe",
              "variable_name": "df",
              "summary": "{\n  \"name\": \"df\",\n  \"rows\": 3000,\n  \"fields\": [\n    {\n      \"column\": \"ALCOHOL_INVOLVED\",\n      \"properties\": {\n        \"dtype\": \"category\",\n        \"num_unique_values\": 2,\n        \"samples\": [\n          \"N\",\n          \"Y\"\n        ],\n        \"semantic_type\": \"\",\n        \"description\": \"\"\n      }\n    },\n    {\n      \"column\": \"COLLISION_TIME\",\n      \"properties\": {\n        \"dtype\": \"number\",\n        \"std\": 648,\n        \"min\": 1,\n        \"max\": 2500,\n        \"num_unique_values\": 894,\n        \"samples\": [\n          1657,\n          26\n        ],\n        \"semantic_type\": \"\",\n        \"description\": \"\"\n      }\n    },\n    {\n      \"column\": \"COLLISION_DATE\",\n      \"properties\": {\n        \"dtype\": \"number\",\n        \"std\": 25897,\n        \"min\": 20090101,\n        \"max\": 20210429,\n        \"num_unique_values\": 1899,\n        \"samples\": [\n          20180905,\n          20130426\n        ],\n        \"semantic_type\": \"\",\n        \"description\": \"\"\n      }\n    },\n    {\n      \"column\": \"DAY_OF_WEEK\",\n      \"properties\": {\n        \"dtype\": \"number\",\n        \"std\": 1,\n        \"min\": 1,\n        \"max\": 7,\n        \"num_unique_values\": 7,\n        \"samples\": [\n          6,\n          5\n        ],\n        \"semantic_type\": \"\",\n        \"description\": \"\"\n      }\n    },\n    {\n      \"column\": \"WEATHER_1\",\n      \"properties\": {\n        \"dtype\": \"category\",\n        \"num_unique_values\": 8,\n        \"samples\": [\n          \"B\",\n          \"E\"\n        ],\n        \"semantic_type\": \"\",\n        \"description\": \"\"\n      }\n    },\n    {\n      \"column\": \"WEATHER_2\",\n      \"properties\": {\n        \"dtype\": \"category\",\n        \"num_unique_values\": 7,\n        \"samples\": [\n          \"-\",\n          \"C\"\n        ],\n        \"semantic_type\": \"\",\n        \"description\": \"\"\n      }\n    },\n    {\n      \"column\": \"LOCATION_TYPE\",\n      \"properties\": {\n        \"dtype\": \"category\",\n        \"num_unique_values\": 3,\n        \"samples\": [\n          \"H\",\n          \"I\"\n        ],\n        \"semantic_type\": \"\",\n        \"description\": \"\"\n      }\n    },\n    {\n      \"column\": \"RAMP_INTERSECTION\",\n      \"properties\": {\n        \"dtype\": \"category\",\n        \"num_unique_values\": 7,\n        \"samples\": [\n          \"-\",\n          \"5\"\n        ],\n        \"semantic_type\": \"\",\n        \"description\": \"\"\n      }\n    },\n    {\n      \"column\": \"MONTH\",\n      \"properties\": {\n        \"dtype\": \"number\",\n        \"std\": 3,\n        \"min\": 1,\n        \"max\": 12,\n        \"num_unique_values\": 12,\n        \"samples\": [\n          2,\n          5\n        ],\n        \"semantic_type\": \"\",\n        \"description\": \"\"\n      }\n    },\n    {\n      \"column\": \"DAY\",\n      \"properties\": {\n        \"dtype\": \"number\",\n        \"std\": 8,\n        \"min\": 1,\n        \"max\": 31,\n        \"num_unique_values\": 31,\n        \"samples\": [\n          31,\n          6\n        ],\n        \"semantic_type\": \"\",\n        \"description\": \"\"\n      }\n    },\n    {\n      \"column\": \"YEAR\",\n      \"properties\": {\n        \"dtype\": \"number\",\n        \"std\": 2,\n        \"min\": 2009,\n        \"max\": 2021,\n        \"num_unique_values\": 13,\n        \"samples\": [\n          2019,\n          2015\n        ],\n        \"semantic_type\": \"\",\n        \"description\": \"\"\n      }\n    },\n    {\n      \"column\": \"HOUR\",\n      \"properties\": {\n        \"dtype\": \"number\",\n        \"std\": 6,\n        \"min\": 0,\n        \"max\": 25,\n        \"num_unique_values\": 25,\n        \"samples\": [\n          0,\n          17\n        ],\n        \"semantic_type\": \"\",\n        \"description\": \"\"\n      }\n    },\n    {\n      \"column\": \"HOUR2\",\n      \"properties\": {\n        \"dtype\": \"number\",\n        \"std\": 6,\n        \"min\": 6,\n        \"max\": 29,\n        \"num_unique_values\": 24,\n        \"samples\": [\n          24,\n          17\n        ],\n        \"semantic_type\": \"\",\n        \"description\": \"\"\n      }\n    },\n    {\n      \"column\": \"MINUTE\",\n      \"properties\": {\n        \"dtype\": \"number\",\n        \"std\": 17,\n        \"min\": 0,\n        \"max\": 59,\n        \"num_unique_values\": 60,\n        \"samples\": [\n          15,\n          0\n        ],\n        \"semantic_type\": \"\",\n        \"description\": \"\"\n      }\n    },\n    {\n      \"column\": \"ALC\",\n      \"properties\": {\n        \"dtype\": \"number\",\n        \"std\": 0,\n        \"min\": 0,\n        \"max\": 1,\n        \"num_unique_values\": 2,\n        \"samples\": [\n          0,\n          1\n        ],\n        \"semantic_type\": \"\",\n        \"description\": \"\"\n      }\n    }\n  ]\n}"
            }
          },
          "metadata": {},
          "execution_count": 8
        }
      ],
      "source": [
        "df = pd.concat([sample_yalc, sample_nalc])\n",
        "\n",
        "df"
      ]
    },
    {
      "cell_type": "code",
      "execution_count": null,
      "metadata": {
        "id": "u_xNc4AjRhK0"
      },
      "outputs": [],
      "source": [
        "def report(y_true, y_pred):\n",
        "    print(f\"Accuracy score: {accuracy_score(y_true, y_pred)}\")\n",
        "    print(f\"Precision: {precision_score(y_true, y_pred)}\")\n",
        "    print(f\"Recall: {recall_score(y_true, y_pred)}\")\n",
        "    print(f\"F1: {f1_score(y_true, y_pred)}\")\n",
        "    print(\"Confusion matrix:\")\n",
        "    print(confusion_matrix(y_true, y_pred))"
      ]
    },
    {
      "cell_type": "markdown",
      "metadata": {
        "id": "2Sm1ZUG4RhKy"
      },
      "source": [
        "**Part 0.5**: EDA"
      ]
    },
    {
      "cell_type": "markdown",
      "source": [
        "Correlation matrix between numerical features and alcohol involvement"
      ],
      "metadata": {
        "id": "Mercco1jbPxX"
      }
    },
    {
      "cell_type": "code",
      "execution_count": null,
      "metadata": {
        "colab": {
          "base_uri": "https://localhost:8080/",
          "height": 366
        },
        "id": "OJUHc2cWRhKz",
        "outputId": "6f6a30f1-749e-4c5d-bdc7-541e10eb042e"
      },
      "outputs": [
        {
          "output_type": "execute_result",
          "data": {
            "text/plain": [
              "COLLISION_TIME   -0.093967\n",
              "COLLISION_DATE    0.009353\n",
              "MONTH             0.011931\n",
              "DAY               0.005163\n",
              "YEAR              0.009188\n",
              "HOUR             -0.093907\n",
              "HOUR2             0.475800\n",
              "MINUTE            0.002109\n",
              "DAY_OF_WEEK       0.200904\n",
              "dtype: float64"
            ],
            "text/html": [
              "<div>\n",
              "<style scoped>\n",
              "    .dataframe tbody tr th:only-of-type {\n",
              "        vertical-align: middle;\n",
              "    }\n",
              "\n",
              "    .dataframe tbody tr th {\n",
              "        vertical-align: top;\n",
              "    }\n",
              "\n",
              "    .dataframe thead th {\n",
              "        text-align: right;\n",
              "    }\n",
              "</style>\n",
              "<table border=\"1\" class=\"dataframe\">\n",
              "  <thead>\n",
              "    <tr style=\"text-align: right;\">\n",
              "      <th></th>\n",
              "      <th>0</th>\n",
              "    </tr>\n",
              "  </thead>\n",
              "  <tbody>\n",
              "    <tr>\n",
              "      <th>COLLISION_TIME</th>\n",
              "      <td>-0.093967</td>\n",
              "    </tr>\n",
              "    <tr>\n",
              "      <th>COLLISION_DATE</th>\n",
              "      <td>0.009353</td>\n",
              "    </tr>\n",
              "    <tr>\n",
              "      <th>MONTH</th>\n",
              "      <td>0.011931</td>\n",
              "    </tr>\n",
              "    <tr>\n",
              "      <th>DAY</th>\n",
              "      <td>0.005163</td>\n",
              "    </tr>\n",
              "    <tr>\n",
              "      <th>YEAR</th>\n",
              "      <td>0.009188</td>\n",
              "    </tr>\n",
              "    <tr>\n",
              "      <th>HOUR</th>\n",
              "      <td>-0.093907</td>\n",
              "    </tr>\n",
              "    <tr>\n",
              "      <th>HOUR2</th>\n",
              "      <td>0.475800</td>\n",
              "    </tr>\n",
              "    <tr>\n",
              "      <th>MINUTE</th>\n",
              "      <td>0.002109</td>\n",
              "    </tr>\n",
              "    <tr>\n",
              "      <th>DAY_OF_WEEK</th>\n",
              "      <td>0.200904</td>\n",
              "    </tr>\n",
              "  </tbody>\n",
              "</table>\n",
              "</div><br><label><b>dtype:</b> float64</label>"
            ]
          },
          "metadata": {},
          "execution_count": 10
        }
      ],
      "source": [
        "df[numerical].corrwith(df[\"ALC\"])"
      ]
    },
    {
      "cell_type": "markdown",
      "source": [
        "Visualization of the distribution of collisions over the hours of the day"
      ],
      "metadata": {
        "id": "AWkvuIisbUFx"
      }
    },
    {
      "cell_type": "code",
      "source": [
        "fig = plt.figure()\n",
        "\n",
        "plt.hist(x=sample_nalc[\"HOUR\"],bins=25, color=\"green\", alpha=0.2, range=(1, 25), label=\"No Alcohol Involved\")\n",
        "plt.hist(x=sample_yalc[\"HOUR\"],bins=25, color=\"blue\", alpha=0.2, range=(1, 25), label=\"Alcohol Involved\")\n",
        "\n",
        "plt.xlabel(\"Hour of the Day (24 hour time)\")\n",
        "plt.ylabel(\"Frequency of Collisions\")\n",
        "plt.title(\"Frequency vs. Time of Day\")\n",
        "\n",
        "plt.legend()\n",
        "\n",
        "fig.show()"
      ],
      "metadata": {
        "colab": {
          "base_uri": "https://localhost:8080/",
          "height": 472
        },
        "id": "JKaoVxbqRsZu",
        "outputId": "220c912e-3cbe-42a2-9788-a4d2bdc4a4fb"
      },
      "execution_count": null,
      "outputs": [
        {
          "output_type": "display_data",
          "data": {
            "text/plain": [
              "<Figure size 640x480 with 1 Axes>"
            ],
            "image/png": "[encoded data removed]"
          },
          "metadata": {}
        }
      ]
    },
    {
      "cell_type": "markdown",
      "source": [
        "Visualization of the distribution of collisions over the hours of the day, with hours 12 AM (0:00) - 6 AM mapped to hours 24:00 - 30:00"
      ],
      "metadata": {
        "id": "0q0oq6uUbXEG"
      }
    },
    {
      "cell_type": "code",
      "execution_count": null,
      "metadata": {
        "colab": {
          "base_uri": "https://localhost:8080/",
          "height": 472
        },
        "id": "QG2Xplb_RhK0",
        "outputId": "7aebc5ac-2db3-4873-fc4a-33a86b152506"
      },
      "outputs": [
        {
          "output_type": "display_data",
          "data": {
            "text/plain": [
              "<Figure size 640x480 with 1 Axes>"
            ],
            "image/png": "[encoded data removed]"
          },
          "metadata": {}
        }
      ],
      "source": [
        "fig = plt.figure()\n",
        "\n",
        "plt.hist(x=sample_nalc[\"HOUR2\"],bins=25, color=\"green\", alpha=0.2, range=(6, 30), label=\"No Alcohol Involved\")\n",
        "plt.hist(x=sample_yalc[\"HOUR2\"],bins=25, color=\"blue\", alpha=0.2, range=(6, 30), label=\"Alcohol Involved\")\n",
        "\n",
        "plt.xlabel(\"Hour of the Day (remapped)\")\n",
        "plt.ylabel(\"Frequency of Collisions\")\n",
        "plt.title(\"Frequency vs. Time of Day\")\n",
        "\n",
        "plt.legend()\n",
        "\n",
        "fig.show()"
      ]
    },
    {
      "cell_type": "markdown",
      "source": [
        "Visualization of the distribution of collisions over the days of the year \\\n",
        "Note: the dates are converted to decimals representing the progress through each month (e.g. 12/15 would be approximately 12.5). This is done to create a continuous distribution"
      ],
      "metadata": {
        "id": "DNABC3c_bdYE"
      }
    },
    {
      "cell_type": "code",
      "source": [
        "def datemap(date):\n",
        "    month_lens = [31, 28, 31, 30, 31, 30, 31, 31, 30, 31, 30, 31] # days in each month\n",
        "    d = date % 10000 # convert to mmdd\n",
        "    month = d // 100\n",
        "    day = d % 100\n",
        "    return (month * 100) + (day / month_lens[month - 1]) * 100\n",
        "\n",
        "fig, axes = plt.subplots(1, 3, sharey=True, sharex=True, figsize=(12, 4))\n",
        "\n",
        "axes[0].hist(x=sample_nalc[\"COLLISION_DATE\"].map(datemap), bins=24, color=\"green\", alpha=0.2, range=(100, 1300), label=\"No Alcohol Involved\")\n",
        "axes[0].hist(x=sample_yalc[\"COLLISION_DATE\"].map(datemap), bins=24, color=\"blue\", alpha=0.2, range=(100, 1300), label=\"Alcohol Involved\")\n",
        "\n",
        "axes[0].set_xlabel(\"Date of the Year\")\n",
        "axes[0].set_ylabel(\"Frequency of Collisions\")\n",
        "axes[0].set_title(\"Frequency vs. Date\")\n",
        "\n",
        "axes[0].set_xticks(range(100, 1300, 100), labels=[str(i) for i in range(1, 13)])\n",
        "axes[0].legend()\n",
        "\n",
        "axes[1].hist(x=sample_nalc[\"COLLISION_DATE\"].map(datemap), bins=24, color=\"green\", alpha=0.2, range=(100, 1300), label=\"No Alcohol Involved\")\n",
        "\n",
        "axes[1].set_xlabel(\"Date of the Year\")\n",
        "axes[1].set_ylabel(\"Frequency of Collisions\")\n",
        "axes[1].set_title(\"Frequency vs. Date (No Alcohol)\")\n",
        "\n",
        "axes[1].legend()\n",
        "\n",
        "axes[2].hist(x=sample_yalc[\"COLLISION_DATE\"].map(datemap), bins=24, color=\"blue\", alpha=0.2, range=(100, 1300), label=\"Alcohol Involved\")\n",
        "\n",
        "axes[2].set_xlabel(\"Date of the Year\")\n",
        "axes[2].set_ylabel(\"Frequency of Collisions\")\n",
        "axes[2].set_title(\"Frequency vs. Date (Alcohol Involved)\")\n",
        "\n",
        "axes[2].legend()\n",
        "\n",
        "fig.show()"
      ],
      "metadata": {
        "colab": {
          "base_uri": "https://localhost:8080/",
          "height": 410
        },
        "id": "tVtRwDPSybOW",
        "outputId": "525ee876-fdbd-4c92-f8c7-542dc99f840d"
      },
      "execution_count": null,
      "outputs": [
        {
          "output_type": "display_data",
          "data": {
            "text/plain": [
              "<Figure size 1200x400 with 3 Axes>"
            ],
            "image/png": "[encoded data removed]"
          },
          "metadata": {}
        }
      ]
    },
    {
      "cell_type": "markdown",
      "source": [
        "Visualization of the distribution of collisions over the days of the week"
      ],
      "metadata": {
        "id": "6HXXPdGObrAd"
      }
    },
    {
      "cell_type": "code",
      "source": [
        "fig = plt.figure()\n",
        "\n",
        "plt.hist(x=sample_nalc[\"DAY_OF_WEEK\"],bins=7, color=\"green\", alpha=0.2, range=(1, 8), label=\"No Alcohol Involved\")\n",
        "plt.hist(x=sample_yalc[\"DAY_OF_WEEK\"],bins=7, color=\"blue\", alpha=0.2, range=(1, 8), label=\"Alcohol Involved\")\n",
        "\n",
        "plt.xlabel(\"Day of the Week\")\n",
        "plt.ylabel(\"Frequency of Collisions\")\n",
        "plt.title(\"Frequency vs. Day of the Week\")\n",
        "\n",
        "plt.legend()\n",
        "\n",
        "fig.show()"
      ],
      "metadata": {
        "colab": {
          "base_uri": "https://localhost:8080/",
          "height": 472
        },
        "id": "ZxuZyW364zan",
        "outputId": "338dcbb8-aa25-4c65-ed7f-979e7b488c12"
      },
      "execution_count": null,
      "outputs": [
        {
          "output_type": "display_data",
          "data": {
            "text/plain": [
              "<Figure size 640x480 with 1 Axes>"
            ],
            "image/png": "[encoded data removed]"
          },
          "metadata": {}
        }
      ]
    },
    {
      "cell_type": "markdown",
      "source": [
        "Crosstab between alcohol involvement and categorical features"
      ],
      "metadata": {
        "id": "yA0FC5GEbtvr"
      }
    },
    {
      "cell_type": "code",
      "source": [
        "def crosstab(category):\n",
        "    print(pd.crosstab(df[\"ALCOHOL_INVOLVED\"], df[category]))\n",
        "    print(\"-\" * 60)\n",
        "\n",
        "for category in categorical:\n",
        "    crosstab(category)"
      ],
      "metadata": {
        "colab": {
          "base_uri": "https://localhost:8080/"
        },
        "id": "6EK3tejZ-T_M",
        "outputId": "323e5027-c153-4465-ee03-1c670e5cf75d"
      },
      "execution_count": null,
      "outputs": [
        {
          "output_type": "stream",
          "name": "stdout",
          "text": [
            "WEATHER_1         -     A    B   C  D  E  F  G\n",
            "ALCOHOL_INVOLVED                              \n",
            "N                 3  1621  276  82  8  5  3  2\n",
            "Y                 1   823  120  43  4  7  2  0\n",
            "------------------------------------------------------------\n",
            "WEATHER_2            -  B   C  D  E  F  G\n",
            "ALCOHOL_INVOLVED                         \n",
            "N                 1930  2  61  1  1  3  2\n",
            "Y                  969  4  19  2  1  1  4\n",
            "------------------------------------------------------------\n",
            "LOCATION_TYPE        H    I    R\n",
            "ALCOHOL_INVOLVED                \n",
            "N                 1536  138  326\n",
            "Y                  726   99  175\n",
            "------------------------------------------------------------\n",
            "RAMP_INTERSECTION     -   1   2   3    4    5   6\n",
            "ALCOHOL_INVOLVED                                 \n",
            "N                  1536  97  95  14  120  105  33\n",
            "Y                   726  36  63  17   59   69  30\n",
            "------------------------------------------------------------\n"
          ]
        }
      ]
    },
    {
      "cell_type": "markdown",
      "source": [
        "Comment: out of the categorical variables, it seems that all of them have a weak (but noticable) relation to whether or not alcohol was involved, except for WEATHER_1."
      ],
      "metadata": {
        "id": "_8BZbItLBREN"
      }
    },
    {
      "cell_type": "markdown",
      "metadata": {
        "id": "_LWs611XRhK1"
      },
      "source": [
        "**Part 1**: Classifiers using all features in `features` list"
      ]
    },
    {
      "cell_type": "markdown",
      "source": [
        "K Neighbors Classifier:"
      ],
      "metadata": {
        "id": "-ucn8sAjB67w"
      }
    },
    {
      "cell_type": "code",
      "execution_count": null,
      "metadata": {
        "colab": {
          "base_uri": "https://localhost:8080/",
          "height": 219
        },
        "id": "pwJQE5YARhK1",
        "outputId": "e66794ee-f390-4cf7-9196-a63746517de1"
      },
      "outputs": [
        {
          "output_type": "execute_result",
          "data": {
            "text/plain": [
              "GridSearchCV(cv=5,\n",
              "             estimator=Pipeline(steps=[('columntransformer',\n",
              "                                        ColumnTransformer(remainder='passthrough',\n",
              "                                                          transformers=[('onehotencoder',\n",
              "                                                                         OneHotEncoder(handle_unknown='ignore'),\n",
              "                                                                         ['WEATHER_1',\n",
              "                                                                          'WEATHER_2',\n",
              "                                                                          'LOCATION_TYPE',\n",
              "                                                                          'RAMP_INTERSECTION'])])),\n",
              "                                       ('kneighborsclassifier',\n",
              "                                        KNeighborsClassifier())]),\n",
              "             param_grid={'kneighborsclassifier__metric': ['euclidean',\n",
              "                                                          'manhattan'],\n",
              "                         'kneighborsclassifier__n_neighbors': range(2, 41)},\n",
              "             scoring='f1_macro')"
            ],
            "text/html": [
              "<style>#sk-container-id-1 {color: black;}#sk-container-id-1 pre{padding: 0;}#sk-container-id-1 div.sk-toggleable {background-color: white;}#sk-container-id-1 label.sk-toggleable__label {cursor: pointer;display: block;width: 100%;margin-bottom: 0;padding: 0.3em;box-sizing: border-box;text-align: center;}#sk-container-id-1 label.sk-toggleable__label-arrow:before {content: \"▸\";float: left;margin-right: 0.25em;color: #696969;}#sk-container-id-1 label.sk-toggleable__label-arrow:hover:before {color: black;}#sk-container-id-1 div.sk-estimator:hover label.sk-toggleable__label-arrow:before {color: black;}#sk-container-id-1 div.sk-toggleable__content {max-height: 0;max-width: 0;overflow: hidden;text-align: left;background-color: #f0f8ff;}#sk-container-id-1 div.sk-toggleable__content pre {margin: 0.2em;color: black;border-radius: 0.25em;background-color: #f0f8ff;}#sk-container-id-1 input.sk-toggleable__control:checked~div.sk-toggleable__content {max-height: 200px;max-width: 100%;overflow: auto;}#sk-container-id-1 input.sk-toggleable__control:checked~label.sk-toggleable__label-arrow:before {content: \"▾\";}#sk-container-id-1 div.sk-estimator input.sk-toggleable__control:checked~label.sk-toggleable__label {background-color: #d4ebff;}#sk-container-id-1 div.sk-label input.sk-toggleable__control:checked~label.sk-toggleable__label {background-color: #d4ebff;}#sk-container-id-1 input.sk-hidden--visually {border: 0;clip: rect(1px 1px 1px 1px);clip: rect(1px, 1px, 1px, 1px);height: 1px;margin: -1px;overflow: hidden;padding: 0;position: absolute;width: 1px;}#sk-container-id-1 div.sk-estimator {font-family: monospace;background-color: #f0f8ff;border: 1px dotted black;border-radius: 0.25em;box-sizing: border-box;margin-bottom: 0.5em;}#sk-container-id-1 div.sk-estimator:hover {background-color: #d4ebff;}#sk-container-id-1 div.sk-parallel-item::after {content: \"\";width: 100%;border-bottom: 1px solid gray;flex-grow: 1;}#sk-container-id-1 div.sk-label:hover label.sk-toggleable__label {background-color: #d4ebff;}#sk-container-id-1 div.sk-serial::before {content: \"\";position: absolute;border-left: 1px solid gray;box-sizing: border-box;top: 0;bottom: 0;left: 50%;z-index: 0;}#sk-container-id-1 div.sk-serial {display: flex;flex-direction: column;align-items: center;background-color: white;padding-right: 0.2em;padding-left: 0.2em;position: relative;}#sk-container-id-1 div.sk-item {position: relative;z-index: 1;}#sk-container-id-1 div.sk-parallel {display: flex;align-items: stretch;justify-content: center;background-color: white;position: relative;}#sk-container-id-1 div.sk-item::before, #sk-container-id-1 div.sk-parallel-item::before {content: \"\";position: absolute;border-left: 1px solid gray;box-sizing: border-box;top: 0;bottom: 0;left: 50%;z-index: -1;}#sk-container-id-1 div.sk-parallel-item {display: flex;flex-direction: column;z-index: 1;position: relative;background-color: white;}#sk-container-id-1 div.sk-parallel-item:first-child::after {align-self: flex-end;width: 50%;}#sk-container-id-1 div.sk-parallel-item:last-child::after {align-self: flex-start;width: 50%;}#sk-container-id-1 div.sk-parallel-item:only-child::after {width: 0;}#sk-container-id-1 div.sk-dashed-wrapped {border: 1px dashed gray;margin: 0 0.4em 0.5em 0.4em;box-sizing: border-box;padding-bottom: 0.4em;background-color: white;}#sk-container-id-1 div.sk-label label {font-family: monospace;font-weight: bold;display: inline-block;line-height: 1.2em;}#sk-container-id-1 div.sk-label-container {text-align: center;}#sk-container-id-1 div.sk-container {/* jupyter's `normalize.less` sets `[hidden] { display: none; }` but bootstrap.min.css set `[hidden] { display: none !important; }` so we also need the `!important` here to be able to override the default hidden behavior on the sphinx rendered scikit-learn.org. See: https://github.com/scikit-learn/scikit-learn/issues/21755 */display: inline-block !important;position: relative;}#sk-container-id-1 div.sk-text-repr-fallback {display: none;}</style><div id=\"sk-container-id-1\" class=\"sk-top-container\"><div class=\"sk-text-repr-fallback\"><pre>GridSearchCV(cv=5,\n",
              "             estimator=Pipeline(steps=[(&#x27;columntransformer&#x27;,\n",
              "                                        ColumnTransformer(remainder=&#x27;passthrough&#x27;,\n",
              "                                                          transformers=[(&#x27;onehotencoder&#x27;,\n",
              "                                                                         OneHotEncoder(handle_unknown=&#x27;ignore&#x27;),\n",
              "                                                                         [&#x27;WEATHER_1&#x27;,\n",
              "                                                                          &#x27;WEATHER_2&#x27;,\n",
              "                                                                          &#x27;LOCATION_TYPE&#x27;,\n",
              "                                                                          &#x27;RAMP_INTERSECTION&#x27;])])),\n",
              "                                       (&#x27;kneighborsclassifier&#x27;,\n",
              "                                        KNeighborsClassifier())]),\n",
              "             param_grid={&#x27;kneighborsclassifier__metric&#x27;: [&#x27;euclidean&#x27;,\n",
              "                                                          &#x27;manhattan&#x27;],\n",
              "                         &#x27;kneighborsclassifier__n_neighbors&#x27;: range(2, 41)},\n",
              "             scoring=&#x27;f1_macro&#x27;)</pre><b>In a Jupyter environment, please rerun this cell to show the HTML representation or trust the notebook. <br />On GitHub, the HTML representation is unable to render, please try loading this page with nbviewer.org.</b></div><div class=\"sk-container\" hidden><div class=\"sk-item sk-dashed-wrapped\"><div class=\"sk-label-container\"><div class=\"sk-label sk-toggleable\"><input class=\"sk-toggleable__control sk-hidden--visually\" id=\"sk-estimator-id-1\" type=\"checkbox\" ><label for=\"sk-estimator-id-1\" class=\"sk-toggleable__label sk-toggleable__label-arrow\">GridSearchCV</label><div class=\"sk-toggleable__content\"><pre>GridSearchCV(cv=5,\n",
              "             estimator=Pipeline(steps=[(&#x27;columntransformer&#x27;,\n",
              "                                        ColumnTransformer(remainder=&#x27;passthrough&#x27;,\n",
              "                                                          transformers=[(&#x27;onehotencoder&#x27;,\n",
              "                                                                         OneHotEncoder(handle_unknown=&#x27;ignore&#x27;),\n",
              "                                                                         [&#x27;WEATHER_1&#x27;,\n",
              "                                                                          &#x27;WEATHER_2&#x27;,\n",
              "                                                                          &#x27;LOCATION_TYPE&#x27;,\n",
              "                                                                          &#x27;RAMP_INTERSECTION&#x27;])])),\n",
              "                                       (&#x27;kneighborsclassifier&#x27;,\n",
              "                                        KNeighborsClassifier())]),\n",
              "             param_grid={&#x27;kneighborsclassifier__metric&#x27;: [&#x27;euclidean&#x27;,\n",
              "                                                          &#x27;manhattan&#x27;],\n",
              "                         &#x27;kneighborsclassifier__n_neighbors&#x27;: range(2, 41)},\n",
              "             scoring=&#x27;f1_macro&#x27;)</pre></div></div></div><div class=\"sk-parallel\"><div class=\"sk-parallel-item\"><div class=\"sk-item\"><div class=\"sk-label-container\"><div class=\"sk-label sk-toggleable\"><input class=\"sk-toggleable__control sk-hidden--visually\" id=\"sk-estimator-id-2\" type=\"checkbox\" ><label for=\"sk-estimator-id-2\" class=\"sk-toggleable__label sk-toggleable__label-arrow\">estimator: Pipeline</label><div class=\"sk-toggleable__content\"><pre>Pipeline(steps=[(&#x27;columntransformer&#x27;,\n",
              "                 ColumnTransformer(remainder=&#x27;passthrough&#x27;,\n",
              "                                   transformers=[(&#x27;onehotencoder&#x27;,\n",
              "                                                  OneHotEncoder(handle_unknown=&#x27;ignore&#x27;),\n",
              "                                                  [&#x27;WEATHER_1&#x27;, &#x27;WEATHER_2&#x27;,\n",
              "                                                   &#x27;LOCATION_TYPE&#x27;,\n",
              "                                                   &#x27;RAMP_INTERSECTION&#x27;])])),\n",
              "                (&#x27;kneighborsclassifier&#x27;, KNeighborsClassifier())])</pre></div></div></div><div class=\"sk-serial\"><div class=\"sk-item\"><div class=\"sk-serial\"><div class=\"sk-item sk-dashed-wrapped\"><div class=\"sk-label-container\"><div class=\"sk-label sk-toggleable\"><input class=\"sk-toggleable__control sk-hidden--visually\" id=\"sk-estimator-id-3\" type=\"checkbox\" ><label for=\"sk-estimator-id-3\" class=\"sk-toggleable__label sk-toggleable__label-arrow\">columntransformer: ColumnTransformer</label><div class=\"sk-toggleable__content\"><pre>ColumnTransformer(remainder=&#x27;passthrough&#x27;,\n",
              "                  transformers=[(&#x27;onehotencoder&#x27;,\n",
              "                                 OneHotEncoder(handle_unknown=&#x27;ignore&#x27;),\n",
              "                                 [&#x27;WEATHER_1&#x27;, &#x27;WEATHER_2&#x27;, &#x27;LOCATION_TYPE&#x27;,\n",
              "                                  &#x27;RAMP_INTERSECTION&#x27;])])</pre></div></div></div><div class=\"sk-parallel\"><div class=\"sk-parallel-item\"><div class=\"sk-item\"><div class=\"sk-label-container\"><div class=\"sk-label sk-toggleable\"><input class=\"sk-toggleable__control sk-hidden--visually\" id=\"sk-estimator-id-4\" type=\"checkbox\" ><label for=\"sk-estimator-id-4\" class=\"sk-toggleable__label sk-toggleable__label-arrow\">onehotencoder</label><div class=\"sk-toggleable__content\"><pre>[&#x27;WEATHER_1&#x27;, &#x27;WEATHER_2&#x27;, &#x27;LOCATION_TYPE&#x27;, &#x27;RAMP_INTERSECTION&#x27;]</pre></div></div></div><div class=\"sk-serial\"><div class=\"sk-item\"><div class=\"sk-estimator sk-toggleable\"><input class=\"sk-toggleable__control sk-hidden--visually\" id=\"sk-estimator-id-5\" type=\"checkbox\" ><label for=\"sk-estimator-id-5\" class=\"sk-toggleable__label sk-toggleable__label-arrow\">OneHotEncoder</label><div class=\"sk-toggleable__content\"><pre>OneHotEncoder(handle_unknown=&#x27;ignore&#x27;)</pre></div></div></div></div></div></div><div class=\"sk-parallel-item\"><div class=\"sk-item\"><div class=\"sk-label-container\"><div class=\"sk-label sk-toggleable\"><input class=\"sk-toggleable__control sk-hidden--visually\" id=\"sk-estimator-id-6\" type=\"checkbox\" ><label for=\"sk-estimator-id-6\" class=\"sk-toggleable__label sk-toggleable__label-arrow\">remainder</label><div class=\"sk-toggleable__content\"><pre></pre></div></div></div><div class=\"sk-serial\"><div class=\"sk-item\"><div class=\"sk-estimator sk-toggleable\"><input class=\"sk-toggleable__control sk-hidden--visually\" id=\"sk-estimator-id-7\" type=\"checkbox\" ><label for=\"sk-estimator-id-7\" class=\"sk-toggleable__label sk-toggleable__label-arrow\">passthrough</label><div class=\"sk-toggleable__content\"><pre>passthrough</pre></div></div></div></div></div></div></div></div><div class=\"sk-item\"><div class=\"sk-estimator sk-toggleable\"><input class=\"sk-toggleable__control sk-hidden--visually\" id=\"sk-estimator-id-8\" type=\"checkbox\" ><label for=\"sk-estimator-id-8\" class=\"sk-toggleable__label sk-toggleable__label-arrow\">KNeighborsClassifier</label><div class=\"sk-toggleable__content\"><pre>KNeighborsClassifier()</pre></div></div></div></div></div></div></div></div></div></div></div></div>"
            ]
          },
          "metadata": {},
          "execution_count": 16
        }
      ],
      "source": [
        "ct = make_column_transformer(\n",
        "    (OneHotEncoder(handle_unknown=\"ignore\"), categorical),\n",
        "    remainder = \"passthrough\",\n",
        ")\n",
        "\n",
        "pipeline_knn = make_pipeline(\n",
        "    ct,\n",
        "    KNeighborsClassifier()\n",
        ")\n",
        "\n",
        "gs_knn = GridSearchCV(\n",
        "    pipeline_knn,\n",
        "    param_grid = {\n",
        "        \"kneighborsclassifier__n_neighbors\": range(2, 41),\n",
        "        \"kneighborsclassifier__metric\": [\"euclidean\", \"manhattan\"]\n",
        "    },\n",
        "    scoring = \"f1_macro\",\n",
        "    cv = 5,\n",
        ")\n",
        "\n",
        "gs_knn.fit(df[features], df[\"ALC\"])"
      ]
    },
    {
      "cell_type": "code",
      "execution_count": null,
      "metadata": {
        "colab": {
          "base_uri": "https://localhost:8080/"
        },
        "id": "uiOZsIKBRhK2",
        "outputId": "941d9ba6-dd8d-4184-c2df-385a1ca2dd60"
      },
      "outputs": [
        {
          "output_type": "stream",
          "name": "stdout",
          "text": [
            "Accuracy score: 0.778\n",
            "Precision: 0.7092731829573935\n",
            "Recall: 0.566\n",
            "F1: 0.6295884315906561\n",
            "Confusion matrix:\n",
            "[[1768  232]\n",
            " [ 434  566]]\n"
          ]
        }
      ],
      "source": [
        "pred = gs_knn.best_estimator_.predict(df[features])\n",
        "\n",
        "report(df[\"ALC\"], pred)"
      ]
    },
    {
      "cell_type": "markdown",
      "source": [
        "Logistic Regression:"
      ],
      "metadata": {
        "id": "1JkgzQJXB-B5"
      }
    },
    {
      "cell_type": "code",
      "execution_count": null,
      "metadata": {
        "colab": {
          "base_uri": "https://localhost:8080/",
          "height": 219
        },
        "id": "TVyaVPYXRhK3",
        "outputId": "a26975d0-7f1f-46c7-df96-2d4955c60b63"
      },
      "outputs": [
        {
          "output_type": "execute_result",
          "data": {
            "text/plain": [
              "GridSearchCV(cv=5,\n",
              "             estimator=Pipeline(steps=[('columntransformer',\n",
              "                                        ColumnTransformer(transformers=[('onehotencoder',\n",
              "                                                                         OneHotEncoder(handle_unknown='ignore'),\n",
              "                                                                         ['WEATHER_1',\n",
              "                                                                          'WEATHER_2',\n",
              "                                                                          'LOCATION_TYPE',\n",
              "                                                                          'RAMP_INTERSECTION']),\n",
              "                                                                        ('standardscaler',\n",
              "                                                                         StandardScaler(),\n",
              "                                                                         ['COLLISION_TIME',\n",
              "                                                                          'COLLISION_DATE',\n",
              "                                                                          'MONTH',\n",
              "                                                                          'DAY',\n",
              "                                                                          'YEAR',\n",
              "                                                                          'HOUR',\n",
              "                                                                          'HOUR2',\n",
              "                                                                          'MINUTE',\n",
              "                                                                          'DAY_OF_WEEK'])])),\n",
              "                                       ('logisticregression',\n",
              "                                        LogisticRegression(max_iter=20000,\n",
              "                                                           penalty='l1'))]),\n",
              "             param_grid={'logisticregression__C': array([0.5, 0.7, 0.9, 1.1, 1.3, 1.5, 1.7, 1.9, 2.1, 2.3, 2.5, 2.7, 2.9]),\n",
              "                         'logisticregression__solver': ['liblinear', 'saga']},\n",
              "             scoring='f1_macro')"
            ],
            "text/html": [
              "<style>#sk-container-id-2 {color: black;}#sk-container-id-2 pre{padding: 0;}#sk-container-id-2 div.sk-toggleable {background-color: white;}#sk-container-id-2 label.sk-toggleable__label {cursor: pointer;display: block;width: 100%;margin-bottom: 0;padding: 0.3em;box-sizing: border-box;text-align: center;}#sk-container-id-2 label.sk-toggleable__label-arrow:before {content: \"▸\";float: left;margin-right: 0.25em;color: #696969;}#sk-container-id-2 label.sk-toggleable__label-arrow:hover:before {color: black;}#sk-container-id-2 div.sk-estimator:hover label.sk-toggleable__label-arrow:before {color: black;}#sk-container-id-2 div.sk-toggleable__content {max-height: 0;max-width: 0;overflow: hidden;text-align: left;background-color: #f0f8ff;}#sk-container-id-2 div.sk-toggleable__content pre {margin: 0.2em;color: black;border-radius: 0.25em;background-color: #f0f8ff;}#sk-container-id-2 input.sk-toggleable__control:checked~div.sk-toggleable__content {max-height: 200px;max-width: 100%;overflow: auto;}#sk-container-id-2 input.sk-toggleable__control:checked~label.sk-toggleable__label-arrow:before {content: \"▾\";}#sk-container-id-2 div.sk-estimator input.sk-toggleable__control:checked~label.sk-toggleable__label {background-color: #d4ebff;}#sk-container-id-2 div.sk-label input.sk-toggleable__control:checked~label.sk-toggleable__label {background-color: #d4ebff;}#sk-container-id-2 input.sk-hidden--visually {border: 0;clip: rect(1px 1px 1px 1px);clip: rect(1px, 1px, 1px, 1px);height: 1px;margin: -1px;overflow: hidden;padding: 0;position: absolute;width: 1px;}#sk-container-id-2 div.sk-estimator {font-family: monospace;background-color: #f0f8ff;border: 1px dotted black;border-radius: 0.25em;box-sizing: border-box;margin-bottom: 0.5em;}#sk-container-id-2 div.sk-estimator:hover {background-color: #d4ebff;}#sk-container-id-2 div.sk-parallel-item::after {content: \"\";width: 100%;border-bottom: 1px solid gray;flex-grow: 1;}#sk-container-id-2 div.sk-label:hover label.sk-toggleable__label {background-color: #d4ebff;}#sk-container-id-2 div.sk-serial::before {content: \"\";position: absolute;border-left: 1px solid gray;box-sizing: border-box;top: 0;bottom: 0;left: 50%;z-index: 0;}#sk-container-id-2 div.sk-serial {display: flex;flex-direction: column;align-items: center;background-color: white;padding-right: 0.2em;padding-left: 0.2em;position: relative;}#sk-container-id-2 div.sk-item {position: relative;z-index: 1;}#sk-container-id-2 div.sk-parallel {display: flex;align-items: stretch;justify-content: center;background-color: white;position: relative;}#sk-container-id-2 div.sk-item::before, #sk-container-id-2 div.sk-parallel-item::before {content: \"\";position: absolute;border-left: 1px solid gray;box-sizing: border-box;top: 0;bottom: 0;left: 50%;z-index: -1;}#sk-container-id-2 div.sk-parallel-item {display: flex;flex-direction: column;z-index: 1;position: relative;background-color: white;}#sk-container-id-2 div.sk-parallel-item:first-child::after {align-self: flex-end;width: 50%;}#sk-container-id-2 div.sk-parallel-item:last-child::after {align-self: flex-start;width: 50%;}#sk-container-id-2 div.sk-parallel-item:only-child::after {width: 0;}#sk-container-id-2 div.sk-dashed-wrapped {border: 1px dashed gray;margin: 0 0.4em 0.5em 0.4em;box-sizing: border-box;padding-bottom: 0.4em;background-color: white;}#sk-container-id-2 div.sk-label label {font-family: monospace;font-weight: bold;display: inline-block;line-height: 1.2em;}#sk-container-id-2 div.sk-label-container {text-align: center;}#sk-container-id-2 div.sk-container {/* jupyter's `normalize.less` sets `[hidden] { display: none; }` but bootstrap.min.css set `[hidden] { display: none !important; }` so we also need the `!important` here to be able to override the default hidden behavior on the sphinx rendered scikit-learn.org. See: https://github.com/scikit-learn/scikit-learn/issues/21755 */display: inline-block !important;position: relative;}#sk-container-id-2 div.sk-text-repr-fallback {display: none;}</style><div id=\"sk-container-id-2\" class=\"sk-top-container\"><div class=\"sk-text-repr-fallback\"><pre>GridSearchCV(cv=5,\n",
              "             estimator=Pipeline(steps=[(&#x27;columntransformer&#x27;,\n",
              "                                        ColumnTransformer(transformers=[(&#x27;onehotencoder&#x27;,\n",
              "                                                                         OneHotEncoder(handle_unknown=&#x27;ignore&#x27;),\n",
              "                                                                         [&#x27;WEATHER_1&#x27;,\n",
              "                                                                          &#x27;WEATHER_2&#x27;,\n",
              "                                                                          &#x27;LOCATION_TYPE&#x27;,\n",
              "                                                                          &#x27;RAMP_INTERSECTION&#x27;]),\n",
              "                                                                        (&#x27;standardscaler&#x27;,\n",
              "                                                                         StandardScaler(),\n",
              "                                                                         [&#x27;COLLISION_TIME&#x27;,\n",
              "                                                                          &#x27;COLLISION_DATE&#x27;,\n",
              "                                                                          &#x27;MONTH&#x27;,\n",
              "                                                                          &#x27;DAY&#x27;,\n",
              "                                                                          &#x27;YEAR&#x27;,\n",
              "                                                                          &#x27;HOUR&#x27;,\n",
              "                                                                          &#x27;HOUR2&#x27;,\n",
              "                                                                          &#x27;MINUTE&#x27;,\n",
              "                                                                          &#x27;DAY_OF_WEEK&#x27;])])),\n",
              "                                       (&#x27;logisticregression&#x27;,\n",
              "                                        LogisticRegression(max_iter=20000,\n",
              "                                                           penalty=&#x27;l1&#x27;))]),\n",
              "             param_grid={&#x27;logisticregression__C&#x27;: array([0.5, 0.7, 0.9, 1.1, 1.3, 1.5, 1.7, 1.9, 2.1, 2.3, 2.5, 2.7, 2.9]),\n",
              "                         &#x27;logisticregression__solver&#x27;: [&#x27;liblinear&#x27;, &#x27;saga&#x27;]},\n",
              "             scoring=&#x27;f1_macro&#x27;)</pre><b>In a Jupyter environment, please rerun this cell to show the HTML representation or trust the notebook. <br />On GitHub, the HTML representation is unable to render, please try loading this page with nbviewer.org.</b></div><div class=\"sk-container\" hidden><div class=\"sk-item sk-dashed-wrapped\"><div class=\"sk-label-container\"><div class=\"sk-label sk-toggleable\"><input class=\"sk-toggleable__control sk-hidden--visually\" id=\"sk-estimator-id-9\" type=\"checkbox\" ><label for=\"sk-estimator-id-9\" class=\"sk-toggleable__label sk-toggleable__label-arrow\">GridSearchCV</label><div class=\"sk-toggleable__content\"><pre>GridSearchCV(cv=5,\n",
              "             estimator=Pipeline(steps=[(&#x27;columntransformer&#x27;,\n",
              "                                        ColumnTransformer(transformers=[(&#x27;onehotencoder&#x27;,\n",
              "                                                                         OneHotEncoder(handle_unknown=&#x27;ignore&#x27;),\n",
              "                                                                         [&#x27;WEATHER_1&#x27;,\n",
              "                                                                          &#x27;WEATHER_2&#x27;,\n",
              "                                                                          &#x27;LOCATION_TYPE&#x27;,\n",
              "                                                                          &#x27;RAMP_INTERSECTION&#x27;]),\n",
              "                                                                        (&#x27;standardscaler&#x27;,\n",
              "                                                                         StandardScaler(),\n",
              "                                                                         [&#x27;COLLISION_TIME&#x27;,\n",
              "                                                                          &#x27;COLLISION_DATE&#x27;,\n",
              "                                                                          &#x27;MONTH&#x27;,\n",
              "                                                                          &#x27;DAY&#x27;,\n",
              "                                                                          &#x27;YEAR&#x27;,\n",
              "                                                                          &#x27;HOUR&#x27;,\n",
              "                                                                          &#x27;HOUR2&#x27;,\n",
              "                                                                          &#x27;MINUTE&#x27;,\n",
              "                                                                          &#x27;DAY_OF_WEEK&#x27;])])),\n",
              "                                       (&#x27;logisticregression&#x27;,\n",
              "                                        LogisticRegression(max_iter=20000,\n",
              "                                                           penalty=&#x27;l1&#x27;))]),\n",
              "             param_grid={&#x27;logisticregression__C&#x27;: array([0.5, 0.7, 0.9, 1.1, 1.3, 1.5, 1.7, 1.9, 2.1, 2.3, 2.5, 2.7, 2.9]),\n",
              "                         &#x27;logisticregression__solver&#x27;: [&#x27;liblinear&#x27;, &#x27;saga&#x27;]},\n",
              "             scoring=&#x27;f1_macro&#x27;)</pre></div></div></div><div class=\"sk-parallel\"><div class=\"sk-parallel-item\"><div class=\"sk-item\"><div class=\"sk-label-container\"><div class=\"sk-label sk-toggleable\"><input class=\"sk-toggleable__control sk-hidden--visually\" id=\"sk-estimator-id-10\" type=\"checkbox\" ><label for=\"sk-estimator-id-10\" class=\"sk-toggleable__label sk-toggleable__label-arrow\">estimator: Pipeline</label><div class=\"sk-toggleable__content\"><pre>Pipeline(steps=[(&#x27;columntransformer&#x27;,\n",
              "                 ColumnTransformer(transformers=[(&#x27;onehotencoder&#x27;,\n",
              "                                                  OneHotEncoder(handle_unknown=&#x27;ignore&#x27;),\n",
              "                                                  [&#x27;WEATHER_1&#x27;, &#x27;WEATHER_2&#x27;,\n",
              "                                                   &#x27;LOCATION_TYPE&#x27;,\n",
              "                                                   &#x27;RAMP_INTERSECTION&#x27;]),\n",
              "                                                 (&#x27;standardscaler&#x27;,\n",
              "                                                  StandardScaler(),\n",
              "                                                  [&#x27;COLLISION_TIME&#x27;,\n",
              "                                                   &#x27;COLLISION_DATE&#x27;, &#x27;MONTH&#x27;,\n",
              "                                                   &#x27;DAY&#x27;, &#x27;YEAR&#x27;, &#x27;HOUR&#x27;,\n",
              "                                                   &#x27;HOUR2&#x27;, &#x27;MINUTE&#x27;,\n",
              "                                                   &#x27;DAY_OF_WEEK&#x27;])])),\n",
              "                (&#x27;logisticregression&#x27;,\n",
              "                 LogisticRegression(max_iter=20000, penalty=&#x27;l1&#x27;))])</pre></div></div></div><div class=\"sk-serial\"><div class=\"sk-item\"><div class=\"sk-serial\"><div class=\"sk-item sk-dashed-wrapped\"><div class=\"sk-label-container\"><div class=\"sk-label sk-toggleable\"><input class=\"sk-toggleable__control sk-hidden--visually\" id=\"sk-estimator-id-11\" type=\"checkbox\" ><label for=\"sk-estimator-id-11\" class=\"sk-toggleable__label sk-toggleable__label-arrow\">columntransformer: ColumnTransformer</label><div class=\"sk-toggleable__content\"><pre>ColumnTransformer(transformers=[(&#x27;onehotencoder&#x27;,\n",
              "                                 OneHotEncoder(handle_unknown=&#x27;ignore&#x27;),\n",
              "                                 [&#x27;WEATHER_1&#x27;, &#x27;WEATHER_2&#x27;, &#x27;LOCATION_TYPE&#x27;,\n",
              "                                  &#x27;RAMP_INTERSECTION&#x27;]),\n",
              "                                (&#x27;standardscaler&#x27;, StandardScaler(),\n",
              "                                 [&#x27;COLLISION_TIME&#x27;, &#x27;COLLISION_DATE&#x27;, &#x27;MONTH&#x27;,\n",
              "                                  &#x27;DAY&#x27;, &#x27;YEAR&#x27;, &#x27;HOUR&#x27;, &#x27;HOUR2&#x27;, &#x27;MINUTE&#x27;,\n",
              "                                  &#x27;DAY_OF_WEEK&#x27;])])</pre></div></div></div><div class=\"sk-parallel\"><div class=\"sk-parallel-item\"><div class=\"sk-item\"><div class=\"sk-label-container\"><div class=\"sk-label sk-toggleable\"><input class=\"sk-toggleable__control sk-hidden--visually\" id=\"sk-estimator-id-12\" type=\"checkbox\" ><label for=\"sk-estimator-id-12\" class=\"sk-toggleable__label sk-toggleable__label-arrow\">onehotencoder</label><div class=\"sk-toggleable__content\"><pre>[&#x27;WEATHER_1&#x27;, &#x27;WEATHER_2&#x27;, &#x27;LOCATION_TYPE&#x27;, &#x27;RAMP_INTERSECTION&#x27;]</pre></div></div></div><div class=\"sk-serial\"><div class=\"sk-item\"><div class=\"sk-estimator sk-toggleable\"><input class=\"sk-toggleable__control sk-hidden--visually\" id=\"sk-estimator-id-13\" type=\"checkbox\" ><label for=\"sk-estimator-id-13\" class=\"sk-toggleable__label sk-toggleable__label-arrow\">OneHotEncoder</label><div class=\"sk-toggleable__content\"><pre>OneHotEncoder(handle_unknown=&#x27;ignore&#x27;)</pre></div></div></div></div></div></div><div class=\"sk-parallel-item\"><div class=\"sk-item\"><div class=\"sk-label-container\"><div class=\"sk-label sk-toggleable\"><input class=\"sk-toggleable__control sk-hidden--visually\" id=\"sk-estimator-id-14\" type=\"checkbox\" ><label for=\"sk-estimator-id-14\" class=\"sk-toggleable__label sk-toggleable__label-arrow\">standardscaler</label><div class=\"sk-toggleable__content\"><pre>[&#x27;COLLISION_TIME&#x27;, &#x27;COLLISION_DATE&#x27;, &#x27;MONTH&#x27;, &#x27;DAY&#x27;, &#x27;YEAR&#x27;, &#x27;HOUR&#x27;, &#x27;HOUR2&#x27;, &#x27;MINUTE&#x27;, &#x27;DAY_OF_WEEK&#x27;]</pre></div></div></div><div class=\"sk-serial\"><div class=\"sk-item\"><div class=\"sk-estimator sk-toggleable\"><input class=\"sk-toggleable__control sk-hidden--visually\" id=\"sk-estimator-id-15\" type=\"checkbox\" ><label for=\"sk-estimator-id-15\" class=\"sk-toggleable__label sk-toggleable__label-arrow\">StandardScaler</label><div class=\"sk-toggleable__content\"><pre>StandardScaler()</pre></div></div></div></div></div></div></div></div><div class=\"sk-item\"><div class=\"sk-estimator sk-toggleable\"><input class=\"sk-toggleable__control sk-hidden--visually\" id=\"sk-estimator-id-16\" type=\"checkbox\" ><label for=\"sk-estimator-id-16\" class=\"sk-toggleable__label sk-toggleable__label-arrow\">LogisticRegression</label><div class=\"sk-toggleable__content\"><pre>LogisticRegression(max_iter=20000, penalty=&#x27;l1&#x27;)</pre></div></div></div></div></div></div></div></div></div></div></div></div>"
            ]
          },
          "metadata": {},
          "execution_count": 18
        }
      ],
      "source": [
        "ct = make_column_transformer(\n",
        "    (OneHotEncoder(handle_unknown=\"ignore\"), categorical),\n",
        "    (StandardScaler(), numerical),\n",
        ")\n",
        "\n",
        "pipeline_log = make_pipeline(\n",
        "    ct,\n",
        "    LogisticRegression(penalty=\"l1\", dual=False, max_iter=20000)\n",
        ")\n",
        "\n",
        "gs_log = GridSearchCV(\n",
        "    pipeline_log,\n",
        "    param_grid = {\n",
        "        \"logisticregression__C\": np.arange(0.5, 3.0, 0.2),\n",
        "        \"logisticregression__solver\": [\"liblinear\", \"saga\"]\n",
        "    },\n",
        "    scoring = \"f1_macro\",\n",
        "    cv = 5,\n",
        ")\n",
        "\n",
        "gs_log.fit(df[features], df[\"ALC\"])"
      ]
    },
    {
      "cell_type": "code",
      "execution_count": null,
      "metadata": {
        "colab": {
          "base_uri": "https://localhost:8080/"
        },
        "id": "5mmgKNwrRhK3",
        "outputId": "5d49c5e5-2deb-4d83-d595-de8907122ed8"
      },
      "outputs": [
        {
          "output_type": "stream",
          "name": "stdout",
          "text": [
            "Accuracy score: 0.7693333333333333\n",
            "Precision: 0.6989664082687338\n",
            "Recall: 0.541\n",
            "F1: 0.6099210822998873\n",
            "Confusion matrix:\n",
            "[[1767  233]\n",
            " [ 459  541]]\n"
          ]
        }
      ],
      "source": [
        "pred = gs_log.best_estimator_.predict(df[features])\n",
        "\n",
        "report(df[\"ALC\"], pred)"
      ]
    },
    {
      "cell_type": "markdown",
      "source": [
        "SVM:"
      ],
      "metadata": {
        "id": "nQxTjg81B_3d"
      }
    },
    {
      "cell_type": "code",
      "execution_count": null,
      "metadata": {
        "colab": {
          "base_uri": "https://localhost:8080/",
          "height": 219
        },
        "id": "8oCIdu3HRhK3",
        "outputId": "b9074afe-b1f0-4adb-878e-3e77a5a78030"
      },
      "outputs": [
        {
          "output_type": "execute_result",
          "data": {
            "text/plain": [
              "GridSearchCV(cv=5,\n",
              "             estimator=Pipeline(steps=[('columntransformer',\n",
              "                                        ColumnTransformer(transformers=[('onehotencoder',\n",
              "                                                                         OneHotEncoder(handle_unknown='ignore'),\n",
              "                                                                         ['WEATHER_1',\n",
              "                                                                          'WEATHER_2',\n",
              "                                                                          'LOCATION_TYPE',\n",
              "                                                                          'RAMP_INTERSECTION']),\n",
              "                                                                        ('standardscaler',\n",
              "                                                                         StandardScaler(),\n",
              "                                                                         ['COLLISION_TIME',\n",
              "                                                                          'COLLISION_DATE',\n",
              "                                                                          'MONTH',\n",
              "                                                                          'DAY',\n",
              "                                                                          'YEAR',\n",
              "                                                                          'HOUR',\n",
              "                                                                          'HOUR2',\n",
              "                                                                          'MINUTE',\n",
              "                                                                          'DAY_OF_WEEK'])])),\n",
              "                                       ('svc', SVC())]),\n",
              "             param_grid={'svc__C': array([0.5, 0.7, 0.9, 1.1, 1.3, 1.5, 1.7, 1.9, 2.1, 2.3, 2.5, 2.7, 2.9]),\n",
              "                         'svc__degree': array([2, 3, 4]),\n",
              "                         'svc__kernel': ['linear', 'poly', 'sigmoid']},\n",
              "             scoring='f1_macro')"
            ],
            "text/html": [
              "<style>#sk-container-id-3 {color: black;}#sk-container-id-3 pre{padding: 0;}#sk-container-id-3 div.sk-toggleable {background-color: white;}#sk-container-id-3 label.sk-toggleable__label {cursor: pointer;display: block;width: 100%;margin-bottom: 0;padding: 0.3em;box-sizing: border-box;text-align: center;}#sk-container-id-3 label.sk-toggleable__label-arrow:before {content: \"▸\";float: left;margin-right: 0.25em;color: #696969;}#sk-container-id-3 label.sk-toggleable__label-arrow:hover:before {color: black;}#sk-container-id-3 div.sk-estimator:hover label.sk-toggleable__label-arrow:before {color: black;}#sk-container-id-3 div.sk-toggleable__content {max-height: 0;max-width: 0;overflow: hidden;text-align: left;background-color: #f0f8ff;}#sk-container-id-3 div.sk-toggleable__content pre {margin: 0.2em;color: black;border-radius: 0.25em;background-color: #f0f8ff;}#sk-container-id-3 input.sk-toggleable__control:checked~div.sk-toggleable__content {max-height: 200px;max-width: 100%;overflow: auto;}#sk-container-id-3 input.sk-toggleable__control:checked~label.sk-toggleable__label-arrow:before {content: \"▾\";}#sk-container-id-3 div.sk-estimator input.sk-toggleable__control:checked~label.sk-toggleable__label {background-color: #d4ebff;}#sk-container-id-3 div.sk-label input.sk-toggleable__control:checked~label.sk-toggleable__label {background-color: #d4ebff;}#sk-container-id-3 input.sk-hidden--visually {border: 0;clip: rect(1px 1px 1px 1px);clip: rect(1px, 1px, 1px, 1px);height: 1px;margin: -1px;overflow: hidden;padding: 0;position: absolute;width: 1px;}#sk-container-id-3 div.sk-estimator {font-family: monospace;background-color: #f0f8ff;border: 1px dotted black;border-radius: 0.25em;box-sizing: border-box;margin-bottom: 0.5em;}#sk-container-id-3 div.sk-estimator:hover {background-color: #d4ebff;}#sk-container-id-3 div.sk-parallel-item::after {content: \"\";width: 100%;border-bottom: 1px solid gray;flex-grow: 1;}#sk-container-id-3 div.sk-label:hover label.sk-toggleable__label {background-color: #d4ebff;}#sk-container-id-3 div.sk-serial::before {content: \"\";position: absolute;border-left: 1px solid gray;box-sizing: border-box;top: 0;bottom: 0;left: 50%;z-index: 0;}#sk-container-id-3 div.sk-serial {display: flex;flex-direction: column;align-items: center;background-color: white;padding-right: 0.2em;padding-left: 0.2em;position: relative;}#sk-container-id-3 div.sk-item {position: relative;z-index: 1;}#sk-container-id-3 div.sk-parallel {display: flex;align-items: stretch;justify-content: center;background-color: white;position: relative;}#sk-container-id-3 div.sk-item::before, #sk-container-id-3 div.sk-parallel-item::before {content: \"\";position: absolute;border-left: 1px solid gray;box-sizing: border-box;top: 0;bottom: 0;left: 50%;z-index: -1;}#sk-container-id-3 div.sk-parallel-item {display: flex;flex-direction: column;z-index: 1;position: relative;background-color: white;}#sk-container-id-3 div.sk-parallel-item:first-child::after {align-self: flex-end;width: 50%;}#sk-container-id-3 div.sk-parallel-item:last-child::after {align-self: flex-start;width: 50%;}#sk-container-id-3 div.sk-parallel-item:only-child::after {width: 0;}#sk-container-id-3 div.sk-dashed-wrapped {border: 1px dashed gray;margin: 0 0.4em 0.5em 0.4em;box-sizing: border-box;padding-bottom: 0.4em;background-color: white;}#sk-container-id-3 div.sk-label label {font-family: monospace;font-weight: bold;display: inline-block;line-height: 1.2em;}#sk-container-id-3 div.sk-label-container {text-align: center;}#sk-container-id-3 div.sk-container {/* jupyter's `normalize.less` sets `[hidden] { display: none; }` but bootstrap.min.css set `[hidden] { display: none !important; }` so we also need the `!important` here to be able to override the default hidden behavior on the sphinx rendered scikit-learn.org. See: https://github.com/scikit-learn/scikit-learn/issues/21755 */display: inline-block !important;position: relative;}#sk-container-id-3 div.sk-text-repr-fallback {display: none;}</style><div id=\"sk-container-id-3\" class=\"sk-top-container\"><div class=\"sk-text-repr-fallback\"><pre>GridSearchCV(cv=5,\n",
              "             estimator=Pipeline(steps=[(&#x27;columntransformer&#x27;,\n",
              "                                        ColumnTransformer(transformers=[(&#x27;onehotencoder&#x27;,\n",
              "                                                                         OneHotEncoder(handle_unknown=&#x27;ignore&#x27;),\n",
              "                                                                         [&#x27;WEATHER_1&#x27;,\n",
              "                                                                          &#x27;WEATHER_2&#x27;,\n",
              "                                                                          &#x27;LOCATION_TYPE&#x27;,\n",
              "                                                                          &#x27;RAMP_INTERSECTION&#x27;]),\n",
              "                                                                        (&#x27;standardscaler&#x27;,\n",
              "                                                                         StandardScaler(),\n",
              "                                                                         [&#x27;COLLISION_TIME&#x27;,\n",
              "                                                                          &#x27;COLLISION_DATE&#x27;,\n",
              "                                                                          &#x27;MONTH&#x27;,\n",
              "                                                                          &#x27;DAY&#x27;,\n",
              "                                                                          &#x27;YEAR&#x27;,\n",
              "                                                                          &#x27;HOUR&#x27;,\n",
              "                                                                          &#x27;HOUR2&#x27;,\n",
              "                                                                          &#x27;MINUTE&#x27;,\n",
              "                                                                          &#x27;DAY_OF_WEEK&#x27;])])),\n",
              "                                       (&#x27;svc&#x27;, SVC())]),\n",
              "             param_grid={&#x27;svc__C&#x27;: array([0.5, 0.7, 0.9, 1.1, 1.3, 1.5, 1.7, 1.9, 2.1, 2.3, 2.5, 2.7, 2.9]),\n",
              "                         &#x27;svc__degree&#x27;: array([2, 3, 4]),\n",
              "                         &#x27;svc__kernel&#x27;: [&#x27;linear&#x27;, &#x27;poly&#x27;, &#x27;sigmoid&#x27;]},\n",
              "             scoring=&#x27;f1_macro&#x27;)</pre><b>In a Jupyter environment, please rerun this cell to show the HTML representation or trust the notebook. <br />On GitHub, the HTML representation is unable to render, please try loading this page with nbviewer.org.</b></div><div class=\"sk-container\" hidden><div class=\"sk-item sk-dashed-wrapped\"><div class=\"sk-label-container\"><div class=\"sk-label sk-toggleable\"><input class=\"sk-toggleable__control sk-hidden--visually\" id=\"sk-estimator-id-17\" type=\"checkbox\" ><label for=\"sk-estimator-id-17\" class=\"sk-toggleable__label sk-toggleable__label-arrow\">GridSearchCV</label><div class=\"sk-toggleable__content\"><pre>GridSearchCV(cv=5,\n",
              "             estimator=Pipeline(steps=[(&#x27;columntransformer&#x27;,\n",
              "                                        ColumnTransformer(transformers=[(&#x27;onehotencoder&#x27;,\n",
              "                                                                         OneHotEncoder(handle_unknown=&#x27;ignore&#x27;),\n",
              "                                                                         [&#x27;WEATHER_1&#x27;,\n",
              "                                                                          &#x27;WEATHER_2&#x27;,\n",
              "                                                                          &#x27;LOCATION_TYPE&#x27;,\n",
              "                                                                          &#x27;RAMP_INTERSECTION&#x27;]),\n",
              "                                                                        (&#x27;standardscaler&#x27;,\n",
              "                                                                         StandardScaler(),\n",
              "                                                                         [&#x27;COLLISION_TIME&#x27;,\n",
              "                                                                          &#x27;COLLISION_DATE&#x27;,\n",
              "                                                                          &#x27;MONTH&#x27;,\n",
              "                                                                          &#x27;DAY&#x27;,\n",
              "                                                                          &#x27;YEAR&#x27;,\n",
              "                                                                          &#x27;HOUR&#x27;,\n",
              "                                                                          &#x27;HOUR2&#x27;,\n",
              "                                                                          &#x27;MINUTE&#x27;,\n",
              "                                                                          &#x27;DAY_OF_WEEK&#x27;])])),\n",
              "                                       (&#x27;svc&#x27;, SVC())]),\n",
              "             param_grid={&#x27;svc__C&#x27;: array([0.5, 0.7, 0.9, 1.1, 1.3, 1.5, 1.7, 1.9, 2.1, 2.3, 2.5, 2.7, 2.9]),\n",
              "                         &#x27;svc__degree&#x27;: array([2, 3, 4]),\n",
              "                         &#x27;svc__kernel&#x27;: [&#x27;linear&#x27;, &#x27;poly&#x27;, &#x27;sigmoid&#x27;]},\n",
              "             scoring=&#x27;f1_macro&#x27;)</pre></div></div></div><div class=\"sk-parallel\"><div class=\"sk-parallel-item\"><div class=\"sk-item\"><div class=\"sk-label-container\"><div class=\"sk-label sk-toggleable\"><input class=\"sk-toggleable__control sk-hidden--visually\" id=\"sk-estimator-id-18\" type=\"checkbox\" ><label for=\"sk-estimator-id-18\" class=\"sk-toggleable__label sk-toggleable__label-arrow\">estimator: Pipeline</label><div class=\"sk-toggleable__content\"><pre>Pipeline(steps=[(&#x27;columntransformer&#x27;,\n",
              "                 ColumnTransformer(transformers=[(&#x27;onehotencoder&#x27;,\n",
              "                                                  OneHotEncoder(handle_unknown=&#x27;ignore&#x27;),\n",
              "                                                  [&#x27;WEATHER_1&#x27;, &#x27;WEATHER_2&#x27;,\n",
              "                                                   &#x27;LOCATION_TYPE&#x27;,\n",
              "                                                   &#x27;RAMP_INTERSECTION&#x27;]),\n",
              "                                                 (&#x27;standardscaler&#x27;,\n",
              "                                                  StandardScaler(),\n",
              "                                                  [&#x27;COLLISION_TIME&#x27;,\n",
              "                                                   &#x27;COLLISION_DATE&#x27;, &#x27;MONTH&#x27;,\n",
              "                                                   &#x27;DAY&#x27;, &#x27;YEAR&#x27;, &#x27;HOUR&#x27;,\n",
              "                                                   &#x27;HOUR2&#x27;, &#x27;MINUTE&#x27;,\n",
              "                                                   &#x27;DAY_OF_WEEK&#x27;])])),\n",
              "                (&#x27;svc&#x27;, SVC())])</pre></div></div></div><div class=\"sk-serial\"><div class=\"sk-item\"><div class=\"sk-serial\"><div class=\"sk-item sk-dashed-wrapped\"><div class=\"sk-label-container\"><div class=\"sk-label sk-toggleable\"><input class=\"sk-toggleable__control sk-hidden--visually\" id=\"sk-estimator-id-19\" type=\"checkbox\" ><label for=\"sk-estimator-id-19\" class=\"sk-toggleable__label sk-toggleable__label-arrow\">columntransformer: ColumnTransformer</label><div class=\"sk-toggleable__content\"><pre>ColumnTransformer(transformers=[(&#x27;onehotencoder&#x27;,\n",
              "                                 OneHotEncoder(handle_unknown=&#x27;ignore&#x27;),\n",
              "                                 [&#x27;WEATHER_1&#x27;, &#x27;WEATHER_2&#x27;, &#x27;LOCATION_TYPE&#x27;,\n",
              "                                  &#x27;RAMP_INTERSECTION&#x27;]),\n",
              "                                (&#x27;standardscaler&#x27;, StandardScaler(),\n",
              "                                 [&#x27;COLLISION_TIME&#x27;, &#x27;COLLISION_DATE&#x27;, &#x27;MONTH&#x27;,\n",
              "                                  &#x27;DAY&#x27;, &#x27;YEAR&#x27;, &#x27;HOUR&#x27;, &#x27;HOUR2&#x27;, &#x27;MINUTE&#x27;,\n",
              "                                  &#x27;DAY_OF_WEEK&#x27;])])</pre></div></div></div><div class=\"sk-parallel\"><div class=\"sk-parallel-item\"><div class=\"sk-item\"><div class=\"sk-label-container\"><div class=\"sk-label sk-toggleable\"><input class=\"sk-toggleable__control sk-hidden--visually\" id=\"sk-estimator-id-20\" type=\"checkbox\" ><label for=\"sk-estimator-id-20\" class=\"sk-toggleable__label sk-toggleable__label-arrow\">onehotencoder</label><div class=\"sk-toggleable__content\"><pre>[&#x27;WEATHER_1&#x27;, &#x27;WEATHER_2&#x27;, &#x27;LOCATION_TYPE&#x27;, &#x27;RAMP_INTERSECTION&#x27;]</pre></div></div></div><div class=\"sk-serial\"><div class=\"sk-item\"><div class=\"sk-estimator sk-toggleable\"><input class=\"sk-toggleable__control sk-hidden--visually\" id=\"sk-estimator-id-21\" type=\"checkbox\" ><label for=\"sk-estimator-id-21\" class=\"sk-toggleable__label sk-toggleable__label-arrow\">OneHotEncoder</label><div class=\"sk-toggleable__content\"><pre>OneHotEncoder(handle_unknown=&#x27;ignore&#x27;)</pre></div></div></div></div></div></div><div class=\"sk-parallel-item\"><div class=\"sk-item\"><div class=\"sk-label-container\"><div class=\"sk-label sk-toggleable\"><input class=\"sk-toggleable__control sk-hidden--visually\" id=\"sk-estimator-id-22\" type=\"checkbox\" ><label for=\"sk-estimator-id-22\" class=\"sk-toggleable__label sk-toggleable__label-arrow\">standardscaler</label><div class=\"sk-toggleable__content\"><pre>[&#x27;COLLISION_TIME&#x27;, &#x27;COLLISION_DATE&#x27;, &#x27;MONTH&#x27;, &#x27;DAY&#x27;, &#x27;YEAR&#x27;, &#x27;HOUR&#x27;, &#x27;HOUR2&#x27;, &#x27;MINUTE&#x27;, &#x27;DAY_OF_WEEK&#x27;]</pre></div></div></div><div class=\"sk-serial\"><div class=\"sk-item\"><div class=\"sk-estimator sk-toggleable\"><input class=\"sk-toggleable__control sk-hidden--visually\" id=\"sk-estimator-id-23\" type=\"checkbox\" ><label for=\"sk-estimator-id-23\" class=\"sk-toggleable__label sk-toggleable__label-arrow\">StandardScaler</label><div class=\"sk-toggleable__content\"><pre>StandardScaler()</pre></div></div></div></div></div></div></div></div><div class=\"sk-item\"><div class=\"sk-estimator sk-toggleable\"><input class=\"sk-toggleable__control sk-hidden--visually\" id=\"sk-estimator-id-24\" type=\"checkbox\" ><label for=\"sk-estimator-id-24\" class=\"sk-toggleable__label sk-toggleable__label-arrow\">SVC</label><div class=\"sk-toggleable__content\"><pre>SVC()</pre></div></div></div></div></div></div></div></div></div></div></div></div>"
            ]
          },
          "metadata": {},
          "execution_count": 20
        }
      ],
      "source": [
        "ct = make_column_transformer(\n",
        "    (OneHotEncoder(handle_unknown=\"ignore\"), categorical),\n",
        "    (StandardScaler(), numerical),\n",
        ")\n",
        "\n",
        "pipeline_svc = make_pipeline(\n",
        "    ct,\n",
        "    SVC(),\n",
        ")\n",
        "\n",
        "gs_svc = GridSearchCV(\n",
        "    pipeline_svc,\n",
        "    param_grid = {\n",
        "        \"svc__C\": np.arange(0.5, 3.0, 0.2),\n",
        "        \"svc__kernel\": [\"linear\", \"poly\", \"sigmoid\"],\n",
        "        \"svc__degree\": np.arange(2, 5)\n",
        "    },\n",
        "    scoring = \"f1_macro\",\n",
        "    cv = 5,\n",
        ")\n",
        "\n",
        "gs_svc.fit(df[features], df[\"ALC\"])"
      ]
    },
    {
      "cell_type": "code",
      "execution_count": null,
      "metadata": {
        "colab": {
          "base_uri": "https://localhost:8080/"
        },
        "id": "FqVXAQizRhK4",
        "outputId": "3706a08a-cf9d-4898-b4a2-6f6368c7865a"
      },
      "outputs": [
        {
          "output_type": "stream",
          "name": "stdout",
          "text": [
            "Accuracy score: 0.7866666666666666\n",
            "Precision: 0.7179176755447942\n",
            "Recall: 0.593\n",
            "F1: 0.6495071193866374\n",
            "Confusion matrix:\n",
            "[[1767  233]\n",
            " [ 407  593]]\n"
          ]
        }
      ],
      "source": [
        "pred = gs_svc.best_estimator_.predict(df[features])\n",
        "\n",
        "report(df[\"ALC\"], pred)"
      ]
    },
    {
      "cell_type": "markdown",
      "source": [
        "**Part 2**: Using a smaller selection of features (listed below)"
      ],
      "metadata": {
        "id": "2RiLc9VCCBFl"
      }
    },
    {
      "cell_type": "code",
      "source": [
        "features2 = [\"HOUR2\", \"DAY_OF_WEEK\", \"WEATHER_2\", \"LOCATION_TYPE\", \"RAMP_INTERSECTION\"]"
      ],
      "metadata": {
        "id": "DdjYakQ_b0Nz"
      },
      "execution_count": null,
      "outputs": []
    },
    {
      "cell_type": "code",
      "source": [
        "gs_knn.best_estimator_ # finding hyperparameters"
      ],
      "metadata": {
        "colab": {
          "base_uri": "https://localhost:8080/",
          "height": 192
        },
        "id": "e8rWLkOVC6ta",
        "outputId": "542a0206-d6b1-4b69-ede8-c22b7b269f5f"
      },
      "execution_count": null,
      "outputs": [
        {
          "output_type": "execute_result",
          "data": {
            "text/plain": [
              "Pipeline(steps=[('columntransformer',\n",
              "                 ColumnTransformer(remainder='passthrough',\n",
              "                                   transformers=[('onehotencoder',\n",
              "                                                  OneHotEncoder(handle_unknown='ignore'),\n",
              "                                                  ['WEATHER_1', 'WEATHER_2',\n",
              "                                                   'LOCATION_TYPE',\n",
              "                                                   'RAMP_INTERSECTION'])])),\n",
              "                ('kneighborsclassifier',\n",
              "                 KNeighborsClassifier(metric='euclidean', n_neighbors=19))])"
            ],
            "text/html": [
              "<style>#sk-container-id-4 {color: black;}#sk-container-id-4 pre{padding: 0;}#sk-container-id-4 div.sk-toggleable {background-color: white;}#sk-container-id-4 label.sk-toggleable__label {cursor: pointer;display: block;width: 100%;margin-bottom: 0;padding: 0.3em;box-sizing: border-box;text-align: center;}#sk-container-id-4 label.sk-toggleable__label-arrow:before {content: \"▸\";float: left;margin-right: 0.25em;color: #696969;}#sk-container-id-4 label.sk-toggleable__label-arrow:hover:before {color: black;}#sk-container-id-4 div.sk-estimator:hover label.sk-toggleable__label-arrow:before {color: black;}#sk-container-id-4 div.sk-toggleable__content {max-height: 0;max-width: 0;overflow: hidden;text-align: left;background-color: #f0f8ff;}#sk-container-id-4 div.sk-toggleable__content pre {margin: 0.2em;color: black;border-radius: 0.25em;background-color: #f0f8ff;}#sk-container-id-4 input.sk-toggleable__control:checked~div.sk-toggleable__content {max-height: 200px;max-width: 100%;overflow: auto;}#sk-container-id-4 input.sk-toggleable__control:checked~label.sk-toggleable__label-arrow:before {content: \"▾\";}#sk-container-id-4 div.sk-estimator input.sk-toggleable__control:checked~label.sk-toggleable__label {background-color: #d4ebff;}#sk-container-id-4 div.sk-label input.sk-toggleable__control:checked~label.sk-toggleable__label {background-color: #d4ebff;}#sk-container-id-4 input.sk-hidden--visually {border: 0;clip: rect(1px 1px 1px 1px);clip: rect(1px, 1px, 1px, 1px);height: 1px;margin: -1px;overflow: hidden;padding: 0;position: absolute;width: 1px;}#sk-container-id-4 div.sk-estimator {font-family: monospace;background-color: #f0f8ff;border: 1px dotted black;border-radius: 0.25em;box-sizing: border-box;margin-bottom: 0.5em;}#sk-container-id-4 div.sk-estimator:hover {background-color: #d4ebff;}#sk-container-id-4 div.sk-parallel-item::after {content: \"\";width: 100%;border-bottom: 1px solid gray;flex-grow: 1;}#sk-container-id-4 div.sk-label:hover label.sk-toggleable__label {background-color: #d4ebff;}#sk-container-id-4 div.sk-serial::before {content: \"\";position: absolute;border-left: 1px solid gray;box-sizing: border-box;top: 0;bottom: 0;left: 50%;z-index: 0;}#sk-container-id-4 div.sk-serial {display: flex;flex-direction: column;align-items: center;background-color: white;padding-right: 0.2em;padding-left: 0.2em;position: relative;}#sk-container-id-4 div.sk-item {position: relative;z-index: 1;}#sk-container-id-4 div.sk-parallel {display: flex;align-items: stretch;justify-content: center;background-color: white;position: relative;}#sk-container-id-4 div.sk-item::before, #sk-container-id-4 div.sk-parallel-item::before {content: \"\";position: absolute;border-left: 1px solid gray;box-sizing: border-box;top: 0;bottom: 0;left: 50%;z-index: -1;}#sk-container-id-4 div.sk-parallel-item {display: flex;flex-direction: column;z-index: 1;position: relative;background-color: white;}#sk-container-id-4 div.sk-parallel-item:first-child::after {align-self: flex-end;width: 50%;}#sk-container-id-4 div.sk-parallel-item:last-child::after {align-self: flex-start;width: 50%;}#sk-container-id-4 div.sk-parallel-item:only-child::after {width: 0;}#sk-container-id-4 div.sk-dashed-wrapped {border: 1px dashed gray;margin: 0 0.4em 0.5em 0.4em;box-sizing: border-box;padding-bottom: 0.4em;background-color: white;}#sk-container-id-4 div.sk-label label {font-family: monospace;font-weight: bold;display: inline-block;line-height: 1.2em;}#sk-container-id-4 div.sk-label-container {text-align: center;}#sk-container-id-4 div.sk-container {/* jupyter's `normalize.less` sets `[hidden] { display: none; }` but bootstrap.min.css set `[hidden] { display: none !important; }` so we also need the `!important` here to be able to override the default hidden behavior on the sphinx rendered scikit-learn.org. See: https://github.com/scikit-learn/scikit-learn/issues/21755 */display: inline-block !important;position: relative;}#sk-container-id-4 div.sk-text-repr-fallback {display: none;}</style><div id=\"sk-container-id-4\" class=\"sk-top-container\"><div class=\"sk-text-repr-fallback\"><pre>Pipeline(steps=[(&#x27;columntransformer&#x27;,\n",
              "                 ColumnTransformer(remainder=&#x27;passthrough&#x27;,\n",
              "                                   transformers=[(&#x27;onehotencoder&#x27;,\n",
              "                                                  OneHotEncoder(handle_unknown=&#x27;ignore&#x27;),\n",
              "                                                  [&#x27;WEATHER_1&#x27;, &#x27;WEATHER_2&#x27;,\n",
              "                                                   &#x27;LOCATION_TYPE&#x27;,\n",
              "                                                   &#x27;RAMP_INTERSECTION&#x27;])])),\n",
              "                (&#x27;kneighborsclassifier&#x27;,\n",
              "                 KNeighborsClassifier(metric=&#x27;euclidean&#x27;, n_neighbors=19))])</pre><b>In a Jupyter environment, please rerun this cell to show the HTML representation or trust the notebook. <br />On GitHub, the HTML representation is unable to render, please try loading this page with nbviewer.org.</b></div><div class=\"sk-container\" hidden><div class=\"sk-item sk-dashed-wrapped\"><div class=\"sk-label-container\"><div class=\"sk-label sk-toggleable\"><input class=\"sk-toggleable__control sk-hidden--visually\" id=\"sk-estimator-id-25\" type=\"checkbox\" ><label for=\"sk-estimator-id-25\" class=\"sk-toggleable__label sk-toggleable__label-arrow\">Pipeline</label><div class=\"sk-toggleable__content\"><pre>Pipeline(steps=[(&#x27;columntransformer&#x27;,\n",
              "                 ColumnTransformer(remainder=&#x27;passthrough&#x27;,\n",
              "                                   transformers=[(&#x27;onehotencoder&#x27;,\n",
              "                                                  OneHotEncoder(handle_unknown=&#x27;ignore&#x27;),\n",
              "                                                  [&#x27;WEATHER_1&#x27;, &#x27;WEATHER_2&#x27;,\n",
              "                                                   &#x27;LOCATION_TYPE&#x27;,\n",
              "                                                   &#x27;RAMP_INTERSECTION&#x27;])])),\n",
              "                (&#x27;kneighborsclassifier&#x27;,\n",
              "                 KNeighborsClassifier(metric=&#x27;euclidean&#x27;, n_neighbors=19))])</pre></div></div></div><div class=\"sk-serial\"><div class=\"sk-item sk-dashed-wrapped\"><div class=\"sk-label-container\"><div class=\"sk-label sk-toggleable\"><input class=\"sk-toggleable__control sk-hidden--visually\" id=\"sk-estimator-id-26\" type=\"checkbox\" ><label for=\"sk-estimator-id-26\" class=\"sk-toggleable__label sk-toggleable__label-arrow\">columntransformer: ColumnTransformer</label><div class=\"sk-toggleable__content\"><pre>ColumnTransformer(remainder=&#x27;passthrough&#x27;,\n",
              "                  transformers=[(&#x27;onehotencoder&#x27;,\n",
              "                                 OneHotEncoder(handle_unknown=&#x27;ignore&#x27;),\n",
              "                                 [&#x27;WEATHER_1&#x27;, &#x27;WEATHER_2&#x27;, &#x27;LOCATION_TYPE&#x27;,\n",
              "                                  &#x27;RAMP_INTERSECTION&#x27;])])</pre></div></div></div><div class=\"sk-parallel\"><div class=\"sk-parallel-item\"><div class=\"sk-item\"><div class=\"sk-label-container\"><div class=\"sk-label sk-toggleable\"><input class=\"sk-toggleable__control sk-hidden--visually\" id=\"sk-estimator-id-27\" type=\"checkbox\" ><label for=\"sk-estimator-id-27\" class=\"sk-toggleable__label sk-toggleable__label-arrow\">onehotencoder</label><div class=\"sk-toggleable__content\"><pre>[&#x27;WEATHER_1&#x27;, &#x27;WEATHER_2&#x27;, &#x27;LOCATION_TYPE&#x27;, &#x27;RAMP_INTERSECTION&#x27;]</pre></div></div></div><div class=\"sk-serial\"><div class=\"sk-item\"><div class=\"sk-estimator sk-toggleable\"><input class=\"sk-toggleable__control sk-hidden--visually\" id=\"sk-estimator-id-28\" type=\"checkbox\" ><label for=\"sk-estimator-id-28\" class=\"sk-toggleable__label sk-toggleable__label-arrow\">OneHotEncoder</label><div class=\"sk-toggleable__content\"><pre>OneHotEncoder(handle_unknown=&#x27;ignore&#x27;)</pre></div></div></div></div></div></div><div class=\"sk-parallel-item\"><div class=\"sk-item\"><div class=\"sk-label-container\"><div class=\"sk-label sk-toggleable\"><input class=\"sk-toggleable__control sk-hidden--visually\" id=\"sk-estimator-id-29\" type=\"checkbox\" ><label for=\"sk-estimator-id-29\" class=\"sk-toggleable__label sk-toggleable__label-arrow\">remainder</label><div class=\"sk-toggleable__content\"><pre>[&#x27;COLLISION_TIME&#x27;, &#x27;COLLISION_DATE&#x27;, &#x27;MONTH&#x27;, &#x27;DAY&#x27;, &#x27;YEAR&#x27;, &#x27;HOUR&#x27;, &#x27;HOUR2&#x27;, &#x27;MINUTE&#x27;, &#x27;DAY_OF_WEEK&#x27;]</pre></div></div></div><div class=\"sk-serial\"><div class=\"sk-item\"><div class=\"sk-estimator sk-toggleable\"><input class=\"sk-toggleable__control sk-hidden--visually\" id=\"sk-estimator-id-30\" type=\"checkbox\" ><label for=\"sk-estimator-id-30\" class=\"sk-toggleable__label sk-toggleable__label-arrow\">passthrough</label><div class=\"sk-toggleable__content\"><pre>passthrough</pre></div></div></div></div></div></div></div></div><div class=\"sk-item\"><div class=\"sk-estimator sk-toggleable\"><input class=\"sk-toggleable__control sk-hidden--visually\" id=\"sk-estimator-id-31\" type=\"checkbox\" ><label for=\"sk-estimator-id-31\" class=\"sk-toggleable__label sk-toggleable__label-arrow\">KNeighborsClassifier</label><div class=\"sk-toggleable__content\"><pre>KNeighborsClassifier(metric=&#x27;euclidean&#x27;, n_neighbors=19)</pre></div></div></div></div></div></div></div>"
            ]
          },
          "metadata": {},
          "execution_count": 23
        }
      ]
    },
    {
      "cell_type": "code",
      "source": [
        "gs_log.best_estimator_"
      ],
      "metadata": {
        "colab": {
          "base_uri": "https://localhost:8080/",
          "height": 192
        },
        "id": "M7-Swky_C6cp",
        "outputId": "b66d9310-c7e4-4ca4-8ec3-5567666686b6"
      },
      "execution_count": null,
      "outputs": [
        {
          "output_type": "execute_result",
          "data": {
            "text/plain": [
              "Pipeline(steps=[('columntransformer',\n",
              "                 ColumnTransformer(transformers=[('onehotencoder',\n",
              "                                                  OneHotEncoder(handle_unknown='ignore'),\n",
              "                                                  ['WEATHER_1', 'WEATHER_2',\n",
              "                                                   'LOCATION_TYPE',\n",
              "                                                   'RAMP_INTERSECTION']),\n",
              "                                                 ('standardscaler',\n",
              "                                                  StandardScaler(),\n",
              "                                                  ['COLLISION_TIME',\n",
              "                                                   'COLLISION_DATE', 'MONTH',\n",
              "                                                   'DAY', 'YEAR', 'HOUR',\n",
              "                                                   'HOUR2', 'MINUTE',\n",
              "                                                   'DAY_OF_WEEK'])])),\n",
              "                ('logisticregression',\n",
              "                 LogisticRegression(C=2.8999999999999995, max_iter=20000,\n",
              "                                    penalty='l1', solver='saga'))])"
            ],
            "text/html": [
              "<style>#sk-container-id-5 {color: black;}#sk-container-id-5 pre{padding: 0;}#sk-container-id-5 div.sk-toggleable {background-color: white;}#sk-container-id-5 label.sk-toggleable__label {cursor: pointer;display: block;width: 100%;margin-bottom: 0;padding: 0.3em;box-sizing: border-box;text-align: center;}#sk-container-id-5 label.sk-toggleable__label-arrow:before {content: \"▸\";float: left;margin-right: 0.25em;color: #696969;}#sk-container-id-5 label.sk-toggleable__label-arrow:hover:before {color: black;}#sk-container-id-5 div.sk-estimator:hover label.sk-toggleable__label-arrow:before {color: black;}#sk-container-id-5 div.sk-toggleable__content {max-height: 0;max-width: 0;overflow: hidden;text-align: left;background-color: #f0f8ff;}#sk-container-id-5 div.sk-toggleable__content pre {margin: 0.2em;color: black;border-radius: 0.25em;background-color: #f0f8ff;}#sk-container-id-5 input.sk-toggleable__control:checked~div.sk-toggleable__content {max-height: 200px;max-width: 100%;overflow: auto;}#sk-container-id-5 input.sk-toggleable__control:checked~label.sk-toggleable__label-arrow:before {content: \"▾\";}#sk-container-id-5 div.sk-estimator input.sk-toggleable__control:checked~label.sk-toggleable__label {background-color: #d4ebff;}#sk-container-id-5 div.sk-label input.sk-toggleable__control:checked~label.sk-toggleable__label {background-color: #d4ebff;}#sk-container-id-5 input.sk-hidden--visually {border: 0;clip: rect(1px 1px 1px 1px);clip: rect(1px, 1px, 1px, 1px);height: 1px;margin: -1px;overflow: hidden;padding: 0;position: absolute;width: 1px;}#sk-container-id-5 div.sk-estimator {font-family: monospace;background-color: #f0f8ff;border: 1px dotted black;border-radius: 0.25em;box-sizing: border-box;margin-bottom: 0.5em;}#sk-container-id-5 div.sk-estimator:hover {background-color: #d4ebff;}#sk-container-id-5 div.sk-parallel-item::after {content: \"\";width: 100%;border-bottom: 1px solid gray;flex-grow: 1;}#sk-container-id-5 div.sk-label:hover label.sk-toggleable__label {background-color: #d4ebff;}#sk-container-id-5 div.sk-serial::before {content: \"\";position: absolute;border-left: 1px solid gray;box-sizing: border-box;top: 0;bottom: 0;left: 50%;z-index: 0;}#sk-container-id-5 div.sk-serial {display: flex;flex-direction: column;align-items: center;background-color: white;padding-right: 0.2em;padding-left: 0.2em;position: relative;}#sk-container-id-5 div.sk-item {position: relative;z-index: 1;}#sk-container-id-5 div.sk-parallel {display: flex;align-items: stretch;justify-content: center;background-color: white;position: relative;}#sk-container-id-5 div.sk-item::before, #sk-container-id-5 div.sk-parallel-item::before {content: \"\";position: absolute;border-left: 1px solid gray;box-sizing: border-box;top: 0;bottom: 0;left: 50%;z-index: -1;}#sk-container-id-5 div.sk-parallel-item {display: flex;flex-direction: column;z-index: 1;position: relative;background-color: white;}#sk-container-id-5 div.sk-parallel-item:first-child::after {align-self: flex-end;width: 50%;}#sk-container-id-5 div.sk-parallel-item:last-child::after {align-self: flex-start;width: 50%;}#sk-container-id-5 div.sk-parallel-item:only-child::after {width: 0;}#sk-container-id-5 div.sk-dashed-wrapped {border: 1px dashed gray;margin: 0 0.4em 0.5em 0.4em;box-sizing: border-box;padding-bottom: 0.4em;background-color: white;}#sk-container-id-5 div.sk-label label {font-family: monospace;font-weight: bold;display: inline-block;line-height: 1.2em;}#sk-container-id-5 div.sk-label-container {text-align: center;}#sk-container-id-5 div.sk-container {/* jupyter's `normalize.less` sets `[hidden] { display: none; }` but bootstrap.min.css set `[hidden] { display: none !important; }` so we also need the `!important` here to be able to override the default hidden behavior on the sphinx rendered scikit-learn.org. See: https://github.com/scikit-learn/scikit-learn/issues/21755 */display: inline-block !important;position: relative;}#sk-container-id-5 div.sk-text-repr-fallback {display: none;}</style><div id=\"sk-container-id-5\" class=\"sk-top-container\"><div class=\"sk-text-repr-fallback\"><pre>Pipeline(steps=[(&#x27;columntransformer&#x27;,\n",
              "                 ColumnTransformer(transformers=[(&#x27;onehotencoder&#x27;,\n",
              "                                                  OneHotEncoder(handle_unknown=&#x27;ignore&#x27;),\n",
              "                                                  [&#x27;WEATHER_1&#x27;, &#x27;WEATHER_2&#x27;,\n",
              "                                                   &#x27;LOCATION_TYPE&#x27;,\n",
              "                                                   &#x27;RAMP_INTERSECTION&#x27;]),\n",
              "                                                 (&#x27;standardscaler&#x27;,\n",
              "                                                  StandardScaler(),\n",
              "                                                  [&#x27;COLLISION_TIME&#x27;,\n",
              "                                                   &#x27;COLLISION_DATE&#x27;, &#x27;MONTH&#x27;,\n",
              "                                                   &#x27;DAY&#x27;, &#x27;YEAR&#x27;, &#x27;HOUR&#x27;,\n",
              "                                                   &#x27;HOUR2&#x27;, &#x27;MINUTE&#x27;,\n",
              "                                                   &#x27;DAY_OF_WEEK&#x27;])])),\n",
              "                (&#x27;logisticregression&#x27;,\n",
              "                 LogisticRegression(C=2.8999999999999995, max_iter=20000,\n",
              "                                    penalty=&#x27;l1&#x27;, solver=&#x27;saga&#x27;))])</pre><b>In a Jupyter environment, please rerun this cell to show the HTML representation or trust the notebook. <br />On GitHub, the HTML representation is unable to render, please try loading this page with nbviewer.org.</b></div><div class=\"sk-container\" hidden><div class=\"sk-item sk-dashed-wrapped\"><div class=\"sk-label-container\"><div class=\"sk-label sk-toggleable\"><input class=\"sk-toggleable__control sk-hidden--visually\" id=\"sk-estimator-id-32\" type=\"checkbox\" ><label for=\"sk-estimator-id-32\" class=\"sk-toggleable__label sk-toggleable__label-arrow\">Pipeline</label><div class=\"sk-toggleable__content\"><pre>Pipeline(steps=[(&#x27;columntransformer&#x27;,\n",
              "                 ColumnTransformer(transformers=[(&#x27;onehotencoder&#x27;,\n",
              "                                                  OneHotEncoder(handle_unknown=&#x27;ignore&#x27;),\n",
              "                                                  [&#x27;WEATHER_1&#x27;, &#x27;WEATHER_2&#x27;,\n",
              "                                                   &#x27;LOCATION_TYPE&#x27;,\n",
              "                                                   &#x27;RAMP_INTERSECTION&#x27;]),\n",
              "                                                 (&#x27;standardscaler&#x27;,\n",
              "                                                  StandardScaler(),\n",
              "                                                  [&#x27;COLLISION_TIME&#x27;,\n",
              "                                                   &#x27;COLLISION_DATE&#x27;, &#x27;MONTH&#x27;,\n",
              "                                                   &#x27;DAY&#x27;, &#x27;YEAR&#x27;, &#x27;HOUR&#x27;,\n",
              "                                                   &#x27;HOUR2&#x27;, &#x27;MINUTE&#x27;,\n",
              "                                                   &#x27;DAY_OF_WEEK&#x27;])])),\n",
              "                (&#x27;logisticregression&#x27;,\n",
              "                 LogisticRegression(C=2.8999999999999995, max_iter=20000,\n",
              "                                    penalty=&#x27;l1&#x27;, solver=&#x27;saga&#x27;))])</pre></div></div></div><div class=\"sk-serial\"><div class=\"sk-item sk-dashed-wrapped\"><div class=\"sk-label-container\"><div class=\"sk-label sk-toggleable\"><input class=\"sk-toggleable__control sk-hidden--visually\" id=\"sk-estimator-id-33\" type=\"checkbox\" ><label for=\"sk-estimator-id-33\" class=\"sk-toggleable__label sk-toggleable__label-arrow\">columntransformer: ColumnTransformer</label><div class=\"sk-toggleable__content\"><pre>ColumnTransformer(transformers=[(&#x27;onehotencoder&#x27;,\n",
              "                                 OneHotEncoder(handle_unknown=&#x27;ignore&#x27;),\n",
              "                                 [&#x27;WEATHER_1&#x27;, &#x27;WEATHER_2&#x27;, &#x27;LOCATION_TYPE&#x27;,\n",
              "                                  &#x27;RAMP_INTERSECTION&#x27;]),\n",
              "                                (&#x27;standardscaler&#x27;, StandardScaler(),\n",
              "                                 [&#x27;COLLISION_TIME&#x27;, &#x27;COLLISION_DATE&#x27;, &#x27;MONTH&#x27;,\n",
              "                                  &#x27;DAY&#x27;, &#x27;YEAR&#x27;, &#x27;HOUR&#x27;, &#x27;HOUR2&#x27;, &#x27;MINUTE&#x27;,\n",
              "                                  &#x27;DAY_OF_WEEK&#x27;])])</pre></div></div></div><div class=\"sk-parallel\"><div class=\"sk-parallel-item\"><div class=\"sk-item\"><div class=\"sk-label-container\"><div class=\"sk-label sk-toggleable\"><input class=\"sk-toggleable__control sk-hidden--visually\" id=\"sk-estimator-id-34\" type=\"checkbox\" ><label for=\"sk-estimator-id-34\" class=\"sk-toggleable__label sk-toggleable__label-arrow\">onehotencoder</label><div class=\"sk-toggleable__content\"><pre>[&#x27;WEATHER_1&#x27;, &#x27;WEATHER_2&#x27;, &#x27;LOCATION_TYPE&#x27;, &#x27;RAMP_INTERSECTION&#x27;]</pre></div></div></div><div class=\"sk-serial\"><div class=\"sk-item\"><div class=\"sk-estimator sk-toggleable\"><input class=\"sk-toggleable__control sk-hidden--visually\" id=\"sk-estimator-id-35\" type=\"checkbox\" ><label for=\"sk-estimator-id-35\" class=\"sk-toggleable__label sk-toggleable__label-arrow\">OneHotEncoder</label><div class=\"sk-toggleable__content\"><pre>OneHotEncoder(handle_unknown=&#x27;ignore&#x27;)</pre></div></div></div></div></div></div><div class=\"sk-parallel-item\"><div class=\"sk-item\"><div class=\"sk-label-container\"><div class=\"sk-label sk-toggleable\"><input class=\"sk-toggleable__control sk-hidden--visually\" id=\"sk-estimator-id-36\" type=\"checkbox\" ><label for=\"sk-estimator-id-36\" class=\"sk-toggleable__label sk-toggleable__label-arrow\">standardscaler</label><div class=\"sk-toggleable__content\"><pre>[&#x27;COLLISION_TIME&#x27;, &#x27;COLLISION_DATE&#x27;, &#x27;MONTH&#x27;, &#x27;DAY&#x27;, &#x27;YEAR&#x27;, &#x27;HOUR&#x27;, &#x27;HOUR2&#x27;, &#x27;MINUTE&#x27;, &#x27;DAY_OF_WEEK&#x27;]</pre></div></div></div><div class=\"sk-serial\"><div class=\"sk-item\"><div class=\"sk-estimator sk-toggleable\"><input class=\"sk-toggleable__control sk-hidden--visually\" id=\"sk-estimator-id-37\" type=\"checkbox\" ><label for=\"sk-estimator-id-37\" class=\"sk-toggleable__label sk-toggleable__label-arrow\">StandardScaler</label><div class=\"sk-toggleable__content\"><pre>StandardScaler()</pre></div></div></div></div></div></div></div></div><div class=\"sk-item\"><div class=\"sk-estimator sk-toggleable\"><input class=\"sk-toggleable__control sk-hidden--visually\" id=\"sk-estimator-id-38\" type=\"checkbox\" ><label for=\"sk-estimator-id-38\" class=\"sk-toggleable__label sk-toggleable__label-arrow\">LogisticRegression</label><div class=\"sk-toggleable__content\"><pre>LogisticRegression(C=2.8999999999999995, max_iter=20000, penalty=&#x27;l1&#x27;,\n",
              "                   solver=&#x27;saga&#x27;)</pre></div></div></div></div></div></div></div>"
            ]
          },
          "metadata": {},
          "execution_count": 24
        }
      ]
    },
    {
      "cell_type": "code",
      "source": [
        "gs_svc.best_estimator_"
      ],
      "metadata": {
        "colab": {
          "base_uri": "https://localhost:8080/",
          "height": 192
        },
        "id": "nqltFa39DTfQ",
        "outputId": "91572c9b-db89-47a0-8cb9-7a8ab37d2011"
      },
      "execution_count": null,
      "outputs": [
        {
          "output_type": "execute_result",
          "data": {
            "text/plain": [
              "Pipeline(steps=[('columntransformer',\n",
              "                 ColumnTransformer(transformers=[('onehotencoder',\n",
              "                                                  OneHotEncoder(handle_unknown='ignore'),\n",
              "                                                  ['WEATHER_1', 'WEATHER_2',\n",
              "                                                   'LOCATION_TYPE',\n",
              "                                                   'RAMP_INTERSECTION']),\n",
              "                                                 ('standardscaler',\n",
              "                                                  StandardScaler(),\n",
              "                                                  ['COLLISION_TIME',\n",
              "                                                   'COLLISION_DATE', 'MONTH',\n",
              "                                                   'DAY', 'YEAR', 'HOUR',\n",
              "                                                   'HOUR2', 'MINUTE',\n",
              "                                                   'DAY_OF_WEEK'])])),\n",
              "                ('svc', SVC(C=2.3, degree=2, kernel='poly'))])"
            ],
            "text/html": [
              "<style>#sk-container-id-6 {color: black;}#sk-container-id-6 pre{padding: 0;}#sk-container-id-6 div.sk-toggleable {background-color: white;}#sk-container-id-6 label.sk-toggleable__label {cursor: pointer;display: block;width: 100%;margin-bottom: 0;padding: 0.3em;box-sizing: border-box;text-align: center;}#sk-container-id-6 label.sk-toggleable__label-arrow:before {content: \"▸\";float: left;margin-right: 0.25em;color: #696969;}#sk-container-id-6 label.sk-toggleable__label-arrow:hover:before {color: black;}#sk-container-id-6 div.sk-estimator:hover label.sk-toggleable__label-arrow:before {color: black;}#sk-container-id-6 div.sk-toggleable__content {max-height: 0;max-width: 0;overflow: hidden;text-align: left;background-color: #f0f8ff;}#sk-container-id-6 div.sk-toggleable__content pre {margin: 0.2em;color: black;border-radius: 0.25em;background-color: #f0f8ff;}#sk-container-id-6 input.sk-toggleable__control:checked~div.sk-toggleable__content {max-height: 200px;max-width: 100%;overflow: auto;}#sk-container-id-6 input.sk-toggleable__control:checked~label.sk-toggleable__label-arrow:before {content: \"▾\";}#sk-container-id-6 div.sk-estimator input.sk-toggleable__control:checked~label.sk-toggleable__label {background-color: #d4ebff;}#sk-container-id-6 div.sk-label input.sk-toggleable__control:checked~label.sk-toggleable__label {background-color: #d4ebff;}#sk-container-id-6 input.sk-hidden--visually {border: 0;clip: rect(1px 1px 1px 1px);clip: rect(1px, 1px, 1px, 1px);height: 1px;margin: -1px;overflow: hidden;padding: 0;position: absolute;width: 1px;}#sk-container-id-6 div.sk-estimator {font-family: monospace;background-color: #f0f8ff;border: 1px dotted black;border-radius: 0.25em;box-sizing: border-box;margin-bottom: 0.5em;}#sk-container-id-6 div.sk-estimator:hover {background-color: #d4ebff;}#sk-container-id-6 div.sk-parallel-item::after {content: \"\";width: 100%;border-bottom: 1px solid gray;flex-grow: 1;}#sk-container-id-6 div.sk-label:hover label.sk-toggleable__label {background-color: #d4ebff;}#sk-container-id-6 div.sk-serial::before {content: \"\";position: absolute;border-left: 1px solid gray;box-sizing: border-box;top: 0;bottom: 0;left: 50%;z-index: 0;}#sk-container-id-6 div.sk-serial {display: flex;flex-direction: column;align-items: center;background-color: white;padding-right: 0.2em;padding-left: 0.2em;position: relative;}#sk-container-id-6 div.sk-item {position: relative;z-index: 1;}#sk-container-id-6 div.sk-parallel {display: flex;align-items: stretch;justify-content: center;background-color: white;position: relative;}#sk-container-id-6 div.sk-item::before, #sk-container-id-6 div.sk-parallel-item::before {content: \"\";position: absolute;border-left: 1px solid gray;box-sizing: border-box;top: 0;bottom: 0;left: 50%;z-index: -1;}#sk-container-id-6 div.sk-parallel-item {display: flex;flex-direction: column;z-index: 1;position: relative;background-color: white;}#sk-container-id-6 div.sk-parallel-item:first-child::after {align-self: flex-end;width: 50%;}#sk-container-id-6 div.sk-parallel-item:last-child::after {align-self: flex-start;width: 50%;}#sk-container-id-6 div.sk-parallel-item:only-child::after {width: 0;}#sk-container-id-6 div.sk-dashed-wrapped {border: 1px dashed gray;margin: 0 0.4em 0.5em 0.4em;box-sizing: border-box;padding-bottom: 0.4em;background-color: white;}#sk-container-id-6 div.sk-label label {font-family: monospace;font-weight: bold;display: inline-block;line-height: 1.2em;}#sk-container-id-6 div.sk-label-container {text-align: center;}#sk-container-id-6 div.sk-container {/* jupyter's `normalize.less` sets `[hidden] { display: none; }` but bootstrap.min.css set `[hidden] { display: none !important; }` so we also need the `!important` here to be able to override the default hidden behavior on the sphinx rendered scikit-learn.org. See: https://github.com/scikit-learn/scikit-learn/issues/21755 */display: inline-block !important;position: relative;}#sk-container-id-6 div.sk-text-repr-fallback {display: none;}</style><div id=\"sk-container-id-6\" class=\"sk-top-container\"><div class=\"sk-text-repr-fallback\"><pre>Pipeline(steps=[(&#x27;columntransformer&#x27;,\n",
              "                 ColumnTransformer(transformers=[(&#x27;onehotencoder&#x27;,\n",
              "                                                  OneHotEncoder(handle_unknown=&#x27;ignore&#x27;),\n",
              "                                                  [&#x27;WEATHER_1&#x27;, &#x27;WEATHER_2&#x27;,\n",
              "                                                   &#x27;LOCATION_TYPE&#x27;,\n",
              "                                                   &#x27;RAMP_INTERSECTION&#x27;]),\n",
              "                                                 (&#x27;standardscaler&#x27;,\n",
              "                                                  StandardScaler(),\n",
              "                                                  [&#x27;COLLISION_TIME&#x27;,\n",
              "                                                   &#x27;COLLISION_DATE&#x27;, &#x27;MONTH&#x27;,\n",
              "                                                   &#x27;DAY&#x27;, &#x27;YEAR&#x27;, &#x27;HOUR&#x27;,\n",
              "                                                   &#x27;HOUR2&#x27;, &#x27;MINUTE&#x27;,\n",
              "                                                   &#x27;DAY_OF_WEEK&#x27;])])),\n",
              "                (&#x27;svc&#x27;, SVC(C=2.3, degree=2, kernel=&#x27;poly&#x27;))])</pre><b>In a Jupyter environment, please rerun this cell to show the HTML representation or trust the notebook. <br />On GitHub, the HTML representation is unable to render, please try loading this page with nbviewer.org.</b></div><div class=\"sk-container\" hidden><div class=\"sk-item sk-dashed-wrapped\"><div class=\"sk-label-container\"><div class=\"sk-label sk-toggleable\"><input class=\"sk-toggleable__control sk-hidden--visually\" id=\"sk-estimator-id-39\" type=\"checkbox\" ><label for=\"sk-estimator-id-39\" class=\"sk-toggleable__label sk-toggleable__label-arrow\">Pipeline</label><div class=\"sk-toggleable__content\"><pre>Pipeline(steps=[(&#x27;columntransformer&#x27;,\n",
              "                 ColumnTransformer(transformers=[(&#x27;onehotencoder&#x27;,\n",
              "                                                  OneHotEncoder(handle_unknown=&#x27;ignore&#x27;),\n",
              "                                                  [&#x27;WEATHER_1&#x27;, &#x27;WEATHER_2&#x27;,\n",
              "                                                   &#x27;LOCATION_TYPE&#x27;,\n",
              "                                                   &#x27;RAMP_INTERSECTION&#x27;]),\n",
              "                                                 (&#x27;standardscaler&#x27;,\n",
              "                                                  StandardScaler(),\n",
              "                                                  [&#x27;COLLISION_TIME&#x27;,\n",
              "                                                   &#x27;COLLISION_DATE&#x27;, &#x27;MONTH&#x27;,\n",
              "                                                   &#x27;DAY&#x27;, &#x27;YEAR&#x27;, &#x27;HOUR&#x27;,\n",
              "                                                   &#x27;HOUR2&#x27;, &#x27;MINUTE&#x27;,\n",
              "                                                   &#x27;DAY_OF_WEEK&#x27;])])),\n",
              "                (&#x27;svc&#x27;, SVC(C=2.3, degree=2, kernel=&#x27;poly&#x27;))])</pre></div></div></div><div class=\"sk-serial\"><div class=\"sk-item sk-dashed-wrapped\"><div class=\"sk-label-container\"><div class=\"sk-label sk-toggleable\"><input class=\"sk-toggleable__control sk-hidden--visually\" id=\"sk-estimator-id-40\" type=\"checkbox\" ><label for=\"sk-estimator-id-40\" class=\"sk-toggleable__label sk-toggleable__label-arrow\">columntransformer: ColumnTransformer</label><div class=\"sk-toggleable__content\"><pre>ColumnTransformer(transformers=[(&#x27;onehotencoder&#x27;,\n",
              "                                 OneHotEncoder(handle_unknown=&#x27;ignore&#x27;),\n",
              "                                 [&#x27;WEATHER_1&#x27;, &#x27;WEATHER_2&#x27;, &#x27;LOCATION_TYPE&#x27;,\n",
              "                                  &#x27;RAMP_INTERSECTION&#x27;]),\n",
              "                                (&#x27;standardscaler&#x27;, StandardScaler(),\n",
              "                                 [&#x27;COLLISION_TIME&#x27;, &#x27;COLLISION_DATE&#x27;, &#x27;MONTH&#x27;,\n",
              "                                  &#x27;DAY&#x27;, &#x27;YEAR&#x27;, &#x27;HOUR&#x27;, &#x27;HOUR2&#x27;, &#x27;MINUTE&#x27;,\n",
              "                                  &#x27;DAY_OF_WEEK&#x27;])])</pre></div></div></div><div class=\"sk-parallel\"><div class=\"sk-parallel-item\"><div class=\"sk-item\"><div class=\"sk-label-container\"><div class=\"sk-label sk-toggleable\"><input class=\"sk-toggleable__control sk-hidden--visually\" id=\"sk-estimator-id-41\" type=\"checkbox\" ><label for=\"sk-estimator-id-41\" class=\"sk-toggleable__label sk-toggleable__label-arrow\">onehotencoder</label><div class=\"sk-toggleable__content\"><pre>[&#x27;WEATHER_1&#x27;, &#x27;WEATHER_2&#x27;, &#x27;LOCATION_TYPE&#x27;, &#x27;RAMP_INTERSECTION&#x27;]</pre></div></div></div><div class=\"sk-serial\"><div class=\"sk-item\"><div class=\"sk-estimator sk-toggleable\"><input class=\"sk-toggleable__control sk-hidden--visually\" id=\"sk-estimator-id-42\" type=\"checkbox\" ><label for=\"sk-estimator-id-42\" class=\"sk-toggleable__label sk-toggleable__label-arrow\">OneHotEncoder</label><div class=\"sk-toggleable__content\"><pre>OneHotEncoder(handle_unknown=&#x27;ignore&#x27;)</pre></div></div></div></div></div></div><div class=\"sk-parallel-item\"><div class=\"sk-item\"><div class=\"sk-label-container\"><div class=\"sk-label sk-toggleable\"><input class=\"sk-toggleable__control sk-hidden--visually\" id=\"sk-estimator-id-43\" type=\"checkbox\" ><label for=\"sk-estimator-id-43\" class=\"sk-toggleable__label sk-toggleable__label-arrow\">standardscaler</label><div class=\"sk-toggleable__content\"><pre>[&#x27;COLLISION_TIME&#x27;, &#x27;COLLISION_DATE&#x27;, &#x27;MONTH&#x27;, &#x27;DAY&#x27;, &#x27;YEAR&#x27;, &#x27;HOUR&#x27;, &#x27;HOUR2&#x27;, &#x27;MINUTE&#x27;, &#x27;DAY_OF_WEEK&#x27;]</pre></div></div></div><div class=\"sk-serial\"><div class=\"sk-item\"><div class=\"sk-estimator sk-toggleable\"><input class=\"sk-toggleable__control sk-hidden--visually\" id=\"sk-estimator-id-44\" type=\"checkbox\" ><label for=\"sk-estimator-id-44\" class=\"sk-toggleable__label sk-toggleable__label-arrow\">StandardScaler</label><div class=\"sk-toggleable__content\"><pre>StandardScaler()</pre></div></div></div></div></div></div></div></div><div class=\"sk-item\"><div class=\"sk-estimator sk-toggleable\"><input class=\"sk-toggleable__control sk-hidden--visually\" id=\"sk-estimator-id-45\" type=\"checkbox\" ><label for=\"sk-estimator-id-45\" class=\"sk-toggleable__label sk-toggleable__label-arrow\">SVC</label><div class=\"sk-toggleable__content\"><pre>SVC(C=2.3, degree=2, kernel=&#x27;poly&#x27;)</pre></div></div></div></div></div></div></div>"
            ]
          },
          "metadata": {},
          "execution_count": 25
        }
      ]
    },
    {
      "cell_type": "code",
      "source": [
        "\n",
        "knn_best = make_pipeline(\n",
        "    make_column_transformer(\n",
        "        (OneHotEncoder(handle_unknown=\"ignore\"), [\"WEATHER_2\", \"LOCATION_TYPE\", \"RAMP_INTERSECTION\"]),\n",
        "        (StandardScaler(), [\"HOUR2\", \"DAY_OF_WEEK\"])\n",
        "    ),\n",
        "    KNeighborsClassifier(metric=\"euclidean\", n_neighbors=19)\n",
        ")\n",
        "\n",
        "log_best = make_pipeline(\n",
        "    make_column_transformer(\n",
        "        (OneHotEncoder(handle_unknown=\"ignore\"), [\"WEATHER_2\", \"LOCATION_TYPE\", \"RAMP_INTERSECTION\"]),\n",
        "        (StandardScaler(), [\"HOUR2\", \"DAY_OF_WEEK\"])\n",
        "    ),\n",
        "    LogisticRegression(C=2.9, max_iter=20000, penalty='l1', solver='saga')\n",
        ")\n",
        "\n",
        "svc_best = make_pipeline(\n",
        "    make_column_transformer(\n",
        "        (OneHotEncoder(handle_unknown=\"ignore\"), [\"WEATHER_2\", \"LOCATION_TYPE\", \"RAMP_INTERSECTION\"]),\n",
        "        (StandardScaler(), [\"HOUR2\", \"DAY_OF_WEEK\"])\n",
        "    ),\n",
        "    SVC(C=2.3, degree=2, kernel='poly')\n",
        ")\n",
        "\n",
        "pred_knn = knn_best.fit(df[features2], df[\"ALC\"]).predict(df[features2])\n",
        "pred_log = log_best.fit(df[features2], df[\"ALC\"]).predict(df[features2])\n",
        "pred_svc = svc_best.fit(df[features2], df[\"ALC\"]).predict(df[features2])"
      ],
      "metadata": {
        "id": "bZ94fsGJCFFY"
      },
      "execution_count": null,
      "outputs": []
    },
    {
      "cell_type": "code",
      "source": [
        "report(df[\"ALC\"], pred_knn)\n",
        "report(df[\"ALC\"], pred_log)\n",
        "report(df[\"ALC\"], pred_svc)"
      ],
      "metadata": {
        "colab": {
          "base_uri": "https://localhost:8080/"
        },
        "id": "c2sy9X7VETFN",
        "outputId": "783b4a50-793a-425b-b527-73a3cf24d7c6"
      },
      "execution_count": null,
      "outputs": [
        {
          "output_type": "stream",
          "name": "stdout",
          "text": [
            "Accuracy score: 0.788\n",
            "Precision: 0.6940298507462687\n",
            "Recall: 0.651\n",
            "F1: 0.6718266253869969\n",
            "Confusion matrix:\n",
            "[[1713  287]\n",
            " [ 349  651]]\n",
            "Accuracy score: 0.769\n",
            "Precision: 0.6970474967907574\n",
            "Recall: 0.543\n",
            "F1: 0.6104553119730185\n",
            "Confusion matrix:\n",
            "[[1764  236]\n",
            " [ 457  543]]\n",
            "Accuracy score: 0.769\n",
            "Precision: 0.7189728958630528\n",
            "Recall: 0.504\n",
            "F1: 0.5925925925925926\n",
            "Confusion matrix:\n",
            "[[1803  197]\n",
            " [ 496  504]]\n"
          ]
        }
      ]
    },
    {
      "cell_type": "code",
      "source": [
        "final_df = df_raw[:10000].dropna()\n",
        "final_df[\"ALCOHOL_INVOLVED\"].value_counts()"
      ],
      "metadata": {
        "colab": {
          "base_uri": "https://localhost:8080/",
          "height": 178
        },
        "id": "nRwD4f3Kk35N",
        "outputId": "3bd1acb7-7cb8-4555-a4c2-2a06af559e5e"
      },
      "execution_count": null,
      "outputs": [
        {
          "output_type": "execute_result",
          "data": {
            "text/plain": [
              "ALCOHOL_INVOLVED\n",
              "N    9152\n",
              "Y     848\n",
              "Name: count, dtype: int64"
            ],
            "text/html": [
              "<div>\n",
              "<style scoped>\n",
              "    .dataframe tbody tr th:only-of-type {\n",
              "        vertical-align: middle;\n",
              "    }\n",
              "\n",
              "    .dataframe tbody tr th {\n",
              "        vertical-align: top;\n",
              "    }\n",
              "\n",
              "    .dataframe thead th {\n",
              "        text-align: right;\n",
              "    }\n",
              "</style>\n",
              "<table border=\"1\" class=\"dataframe\">\n",
              "  <thead>\n",
              "    <tr style=\"text-align: right;\">\n",
              "      <th></th>\n",
              "      <th>count</th>\n",
              "    </tr>\n",
              "    <tr>\n",
              "      <th>ALCOHOL_INVOLVED</th>\n",
              "      <th></th>\n",
              "    </tr>\n",
              "  </thead>\n",
              "  <tbody>\n",
              "    <tr>\n",
              "      <th>N</th>\n",
              "      <td>9152</td>\n",
              "    </tr>\n",
              "    <tr>\n",
              "      <th>Y</th>\n",
              "      <td>848</td>\n",
              "    </tr>\n",
              "  </tbody>\n",
              "</table>\n",
              "</div><br><label><b>dtype:</b> int64</label>"
            ]
          },
          "metadata": {},
          "execution_count": 28
        }
      ]
    },
    {
      "cell_type": "code",
      "source": [
        "X, X2, Y = final_df[features], final_df[features2], final_df[\"ALC\"]\n",
        "\n",
        "knn_1 = gs_knn.best_estimator_\n",
        "knn_2 = knn_best\n",
        "log_1 = gs_log.best_estimator_\n",
        "log_2 = log_best\n",
        "svc_1 = gs_svc.best_estimator_\n",
        "svc_2 = svc_best\n",
        "\n",
        "pred_knn1 = knn_1.predict(X)\n",
        "pred_log1 = log_1.predict(X)\n",
        "pred_svc1 = svc_1.predict(X)\n",
        "pred_knn2 = knn_2.predict(X2)\n",
        "pred_log2 = log_2.predict(X2)\n",
        "pred_svc2 = svc_2.predict(X2)"
      ],
      "metadata": {
        "id": "h0ukVRZtnHGC"
      },
      "execution_count": null,
      "outputs": []
    },
    {
      "cell_type": "code",
      "source": [
        "report(pred_knn1, Y)\n",
        "report(pred_log1, Y)\n",
        "report(pred_svc1, Y)"
      ],
      "metadata": {
        "colab": {
          "base_uri": "https://localhost:8080/"
        },
        "id": "w-k9ibispiDr",
        "outputId": "ee4d8cb2-03d9-4edb-c3cb-011ac6496756"
      },
      "execution_count": null,
      "outputs": [
        {
          "output_type": "stream",
          "name": "stdout",
          "text": [
            "Accuracy score: 0.8453\n",
            "Precision: 0.6568396226415094\n",
            "Recall: 0.30722559293987867\n",
            "F1: 0.41863960916948517\n",
            "Confusion matrix:\n",
            "[[7896  291]\n",
            " [1256  557]]\n",
            "Accuracy score: 0.8632\n",
            "Precision: 0.5766509433962265\n",
            "Recall: 0.32643524699599463\n",
            "F1: 0.4168797953964194\n",
            "Confusion matrix:\n",
            "[[8143  359]\n",
            " [1009  489]]\n",
            "Accuracy score: 0.8606\n",
            "Precision: 0.6073113207547169\n",
            "Recall: 0.3267766497461929\n",
            "F1: 0.4249174917491749\n",
            "Confusion matrix:\n",
            "[[8091  333]\n",
            " [1061  515]]\n"
          ]
        }
      ]
    },
    {
      "cell_type": "code",
      "source": [
        "report(pred_knn2, Y)\n",
        "report(pred_log2, Y)\n",
        "report(pred_svc2, Y)"
      ],
      "metadata": {
        "colab": {
          "base_uri": "https://localhost:8080/"
        },
        "id": "k237npCzp_70",
        "outputId": "e246c7ec-ceb3-4315-a411-b00bbfd08bf9"
      },
      "execution_count": null,
      "outputs": [
        {
          "output_type": "stream",
          "name": "stdout",
          "text": [
            "Accuracy score: 0.8356\n",
            "Precision: 0.6591981132075472\n",
            "Recall: 0.29205851619644724\n",
            "F1: 0.4047791455467053\n",
            "Confusion matrix:\n",
            "[[7797  289]\n",
            " [1355  559]]\n",
            "Accuracy score: 0.862\n",
            "Precision: 0.5813679245283019\n",
            "Recall: 0.32476943346508563\n",
            "F1: 0.4167371090448013\n",
            "Confusion matrix:\n",
            "[[8127  355]\n",
            " [1025  493]]\n",
            "Accuracy score: 0.8731\n",
            "Precision: 0.5306603773584906\n",
            "Recall: 0.34065102195306585\n",
            "F1: 0.41493775933609955\n",
            "Confusion matrix:\n",
            "[[8281  398]\n",
            " [ 871  450]]\n"
          ]
        }
      ]
    },
    {
      "cell_type": "code",
      "source": [
        "# @markdown Run this cell to download this notebook as a webpage, `_NOTEBOOK.html`.\n",
        "\n",
        "import google, json, nbformat\n",
        "\n",
        "# Get the current notebook and write it to _NOTEBOOK.ipynb\n",
        "raw_notebook = google.colab._message.blocking_request(\"get_ipynb\",\n",
        "                                                      timeout_sec=30)[\"ipynb\"]\n",
        "with open(\"_NOTEBOOK.ipynb\", \"w\", encoding=\"utf-8\") as ipynb_file:\n",
        "  ipynb_file.write(json.dumps(raw_notebook))\n",
        "\n",
        "# Use nbconvert to convert .ipynb to .html.\n",
        "!jupyter nbconvert --to html --log-level WARN _NOTEBOOK.ipynb\n",
        "\n",
        "# Download the .html file.\n",
        "google.colab.files.download(\"_NOTEBOOK.html\")"
      ],
      "metadata": {
        "colab": {
          "base_uri": "https://localhost:8080/",
          "height": 17
        },
        "id": "C_LcBuXc3Zb6",
        "outputId": "e9ef5ce6-bf89-4bd4-e7c5-e38f8bf91239"
      },
      "execution_count": null,
      "outputs": [
        {
          "output_type": "display_data",
          "data": {
            "text/plain": [
              "<IPython.core.display.Javascript object>"
            ],
            "application/javascript": [
              "\n",
              "    async function download(id, filename, size) {\n",
              "      if (!google.colab.kernel.accessAllowed) {\n",
              "        return;\n",
              "      }\n",
              "      const div = document.createElement('div');\n",
              "      const label = document.createElement('label');\n",
              "      label.textContent = `Downloading \"${filename}\": `;\n",
              "      div.appendChild(label);\n",
              "      const progress = document.createElement('progress');\n",
              "      progress.max = size;\n",
              "      div.appendChild(progress);\n",
              "      document.body.appendChild(div);\n",
              "\n",
              "      const buffers = [];\n",
              "      let downloaded = 0;\n",
              "\n",
              "      const channel = await google.colab.kernel.comms.open(id);\n",
              "      // Send a message to notify the kernel that we're ready.\n",
              "      channel.send({})\n",
              "\n",
              "      for await (const message of channel.messages) {\n",
              "        // Send a message to notify the kernel that we're ready.\n",
              "        channel.send({})\n",
              "        if (message.buffers) {\n",
              "          for (const buffer of message.buffers) {\n",
              "            buffers.push(buffer);\n",
              "            downloaded += buffer.byteLength;\n",
              "            progress.value = downloaded;\n",
              "          }\n",
              "        }\n",
              "      }\n",
              "      const blob = new Blob(buffers, {type: 'application/binary'});\n",
              "      const a = document.createElement('a');\n",
              "      a.href = window.URL.createObjectURL(blob);\n",
              "      a.download = filename;\n",
              "      div.appendChild(a);\n",
              "      a.click();\n",
              "      div.remove();\n",
              "    }\n",
              "  "
            ]
          },
          "metadata": {}
        },
        {
          "output_type": "display_data",
          "data": {
            "text/plain": [
              "<IPython.core.display.Javascript object>"
            ],
            "application/javascript": [
              "download(\"download_e73a7010-370e-4e9a-abd1-0f5eacd863af\", \"_NOTEBOOK.html\", 896194)"
            ]
          },
          "metadata": {}
        }
      ]
    }
  ],
  "metadata": {
    "kernelspec": {
      "display_name": "datasci",
      "language": "python",
      "name": "python3"
    },
    "language_info": {
      "codemirror_mode": {
        "name": "ipython",
        "version": 3
      },
      "file_extension": ".py",
      "mimetype": "text/x-python",
      "name": "python",
      "nbconvert_exporter": "python",
      "pygments_lexer": "ipython3",
      "version": "3.12.4"
    },
    "colab": {
      "provenance": []
    }
  },
  "nbformat": 4,
  "nbformat_minor": 0
}